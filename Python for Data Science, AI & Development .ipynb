{
 "cells": [
  {
   "cell_type": "markdown",
   "id": "7a724f99",
   "metadata": {},
   "source": [
    "# Python Basic Notebook "
   ]
  },
  {
   "cell_type": "code",
   "execution_count": 1,
   "id": "665ea997",
   "metadata": {},
   "outputs": [
    {
     "name": "stdout",
     "output_type": "stream",
     "text": [
      "Hellow world\n"
     ]
    }
   ],
   "source": [
    "print (\"Hellow world\")"
   ]
  },
  {
   "cell_type": "markdown",
   "id": "9146663b",
   "metadata": {},
   "source": [
    "## Data Types"
   ]
  },
  {
   "cell_type": "code",
   "execution_count": 2,
   "id": "5eace283",
   "metadata": {},
   "outputs": [
    {
     "data": {
      "text/plain": [
       "int"
      ]
     },
     "execution_count": 2,
     "metadata": {},
     "output_type": "execute_result"
    }
   ],
   "source": [
    "type (3)"
   ]
  },
  {
   "cell_type": "code",
   "execution_count": 3,
   "id": "289d8316",
   "metadata": {},
   "outputs": [
    {
     "data": {
      "text/plain": [
       "int"
      ]
     },
     "execution_count": 3,
     "metadata": {},
     "output_type": "execute_result"
    }
   ],
   "source": [
    "type (4)"
   ]
  },
  {
   "cell_type": "code",
   "execution_count": 4,
   "id": "911040f6",
   "metadata": {},
   "outputs": [
    {
     "data": {
      "text/plain": [
       "float"
      ]
     },
     "execution_count": 4,
     "metadata": {},
     "output_type": "execute_result"
    }
   ],
   "source": [
    "type (5.3)"
   ]
  },
  {
   "cell_type": "code",
   "execution_count": 5,
   "id": "ac574535",
   "metadata": {},
   "outputs": [
    {
     "data": {
      "text/plain": [
       "float"
      ]
     },
     "execution_count": 5,
     "metadata": {},
     "output_type": "execute_result"
    }
   ],
   "source": [
    "type (6.3333)"
   ]
  },
  {
   "cell_type": "code",
   "execution_count": 6,
   "id": "461c995f",
   "metadata": {},
   "outputs": [
    {
     "data": {
      "text/plain": [
       "str"
      ]
     },
     "execution_count": 6,
     "metadata": {},
     "output_type": "execute_result"
    }
   ],
   "source": [
    "type (\"I am learning python\")\n"
   ]
  },
  {
   "cell_type": "code",
   "execution_count": 7,
   "id": "f689c9c7",
   "metadata": {},
   "outputs": [
    {
     "data": {
      "text/plain": [
       "str"
      ]
     },
     "execution_count": 7,
     "metadata": {},
     "output_type": "execute_result"
    }
   ],
   "source": [
    "type (\"hellow word\")"
   ]
  },
  {
   "cell_type": "markdown",
   "id": "2e936abd",
   "metadata": {},
   "source": [
    "### boolean"
   ]
  },
  {
   "cell_type": "code",
   "execution_count": 8,
   "id": "c5d82200",
   "metadata": {},
   "outputs": [
    {
     "data": {
      "text/plain": [
       "True"
      ]
     },
     "execution_count": 8,
     "metadata": {},
     "output_type": "execute_result"
    }
   ],
   "source": [
    "True "
   ]
  },
  {
   "cell_type": "code",
   "execution_count": 9,
   "id": "8e0b7c00",
   "metadata": {},
   "outputs": [
    {
     "data": {
      "text/plain": [
       "bool"
      ]
     },
     "execution_count": 9,
     "metadata": {},
     "output_type": "execute_result"
    }
   ],
   "source": [
    "type (True)"
   ]
  },
  {
   "cell_type": "code",
   "execution_count": 10,
   "id": "12cfa76c",
   "metadata": {},
   "outputs": [
    {
     "data": {
      "text/plain": [
       "False"
      ]
     },
     "execution_count": 10,
     "metadata": {},
     "output_type": "execute_result"
    }
   ],
   "source": [
    "False "
   ]
  },
  {
   "cell_type": "code",
   "execution_count": 11,
   "id": "f81d341d",
   "metadata": {},
   "outputs": [
    {
     "data": {
      "text/plain": [
       "bool"
      ]
     },
     "execution_count": 11,
     "metadata": {},
     "output_type": "execute_result"
    }
   ],
   "source": [
    "type (False)"
   ]
  },
  {
   "cell_type": "code",
   "execution_count": 12,
   "id": "ea2be78d",
   "metadata": {},
   "outputs": [
    {
     "data": {
      "text/plain": [
       "1"
      ]
     },
     "execution_count": 12,
     "metadata": {},
     "output_type": "execute_result"
    }
   ],
   "source": [
    "int(True)"
   ]
  },
  {
   "cell_type": "code",
   "execution_count": 13,
   "id": "abbf6dc9",
   "metadata": {},
   "outputs": [
    {
     "data": {
      "text/plain": [
       "0"
      ]
     },
     "execution_count": 13,
     "metadata": {},
     "output_type": "execute_result"
    }
   ],
   "source": [
    "int(False)"
   ]
  },
  {
   "cell_type": "code",
   "execution_count": 14,
   "id": "bcd8d963",
   "metadata": {},
   "outputs": [
    {
     "data": {
      "text/plain": [
       "False"
      ]
     },
     "execution_count": 14,
     "metadata": {},
     "output_type": "execute_result"
    }
   ],
   "source": [
    "bool(0)"
   ]
  },
  {
   "cell_type": "code",
   "execution_count": 15,
   "id": "4ed632e7",
   "metadata": {},
   "outputs": [
    {
     "data": {
      "text/plain": [
       "True"
      ]
     },
     "execution_count": 15,
     "metadata": {},
     "output_type": "execute_result"
    }
   ],
   "source": [
    "bool(1)"
   ]
  },
  {
   "cell_type": "markdown",
   "id": "40f0b41d",
   "metadata": {},
   "source": [
    "### Type casting "
   ]
  },
  {
   "cell_type": "code",
   "execution_count": 16,
   "id": "1e8ca803",
   "metadata": {},
   "outputs": [
    {
     "data": {
      "text/plain": [
       "4"
      ]
     },
     "execution_count": 16,
     "metadata": {},
     "output_type": "execute_result"
    }
   ],
   "source": [
    "int (4.33)"
   ]
  },
  {
   "cell_type": "code",
   "execution_count": 17,
   "id": "bb313061",
   "metadata": {},
   "outputs": [
    {
     "data": {
      "text/plain": [
       "4"
      ]
     },
     "execution_count": 17,
     "metadata": {},
     "output_type": "execute_result"
    }
   ],
   "source": [
    "int (4.0)"
   ]
  },
  {
   "cell_type": "code",
   "execution_count": 18,
   "id": "51762fd2",
   "metadata": {},
   "outputs": [
    {
     "data": {
      "text/plain": [
       "3.0"
      ]
     },
     "execution_count": 18,
     "metadata": {},
     "output_type": "execute_result"
    }
   ],
   "source": [
    "float (3)"
   ]
  },
  {
   "cell_type": "code",
   "execution_count": 19,
   "id": "16851c6b",
   "metadata": {},
   "outputs": [
    {
     "data": {
      "text/plain": [
       "'4'"
      ]
     },
     "execution_count": 19,
     "metadata": {},
     "output_type": "execute_result"
    }
   ],
   "source": [
    "str (4)"
   ]
  },
  {
   "cell_type": "code",
   "execution_count": 20,
   "id": "de48a544",
   "metadata": {},
   "outputs": [
    {
     "data": {
      "text/plain": [
       "'4.55'"
      ]
     },
     "execution_count": 20,
     "metadata": {},
     "output_type": "execute_result"
    }
   ],
   "source": [
    "str(4.55)"
   ]
  },
  {
   "cell_type": "code",
   "execution_count": 21,
   "id": "9b3a98ce",
   "metadata": {},
   "outputs": [
    {
     "data": {
      "text/plain": [
       "bool"
      ]
     },
     "execution_count": 21,
     "metadata": {},
     "output_type": "execute_result"
    }
   ],
   "source": [
    "type(True)"
   ]
  },
  {
   "cell_type": "code",
   "execution_count": 22,
   "id": "ab635ef4",
   "metadata": {},
   "outputs": [
    {
     "data": {
      "text/plain": [
       "1"
      ]
     },
     "execution_count": 22,
     "metadata": {},
     "output_type": "execute_result"
    }
   ],
   "source": [
    "int(True)"
   ]
  },
  {
   "cell_type": "code",
   "execution_count": 23,
   "id": "6db4fcf2",
   "metadata": {},
   "outputs": [
    {
     "data": {
      "text/plain": [
       "True"
      ]
     },
     "execution_count": 23,
     "metadata": {},
     "output_type": "execute_result"
    }
   ],
   "source": [
    "bool(1)"
   ]
  },
  {
   "cell_type": "code",
   "execution_count": 24,
   "id": "3fec1a63",
   "metadata": {},
   "outputs": [
    {
     "data": {
      "text/plain": [
       "0"
      ]
     },
     "execution_count": 24,
     "metadata": {},
     "output_type": "execute_result"
    }
   ],
   "source": [
    "int(False)"
   ]
  },
  {
   "cell_type": "code",
   "execution_count": 25,
   "id": "66a33166",
   "metadata": {},
   "outputs": [
    {
     "data": {
      "text/plain": [
       "False"
      ]
     },
     "execution_count": 25,
     "metadata": {},
     "output_type": "execute_result"
    }
   ],
   "source": [
    "bool(0)"
   ]
  },
  {
   "cell_type": "code",
   "execution_count": 26,
   "id": "69208856",
   "metadata": {},
   "outputs": [
    {
     "data": {
      "text/plain": [
       "True"
      ]
     },
     "execution_count": 26,
     "metadata": {},
     "output_type": "execute_result"
    }
   ],
   "source": [
    "bool(5)"
   ]
  },
  {
   "cell_type": "code",
   "execution_count": 27,
   "id": "718047ef",
   "metadata": {},
   "outputs": [
    {
     "data": {
      "text/plain": [
       "True"
      ]
     },
     "execution_count": 27,
     "metadata": {},
     "output_type": "execute_result"
    }
   ],
   "source": [
    "bool(-3)"
   ]
  },
  {
   "cell_type": "markdown",
   "id": "d5118412",
   "metadata": {},
   "source": [
    "### variables in python"
   ]
  },
  {
   "cell_type": "code",
   "execution_count": 28,
   "id": "bff7ab7b",
   "metadata": {},
   "outputs": [],
   "source": [
    "x_value = 45"
   ]
  },
  {
   "cell_type": "code",
   "execution_count": 29,
   "id": "ca3968a6",
   "metadata": {},
   "outputs": [
    {
     "name": "stdout",
     "output_type": "stream",
     "text": [
      "45\n"
     ]
    }
   ],
   "source": [
    "print (x_value)"
   ]
  },
  {
   "cell_type": "code",
   "execution_count": 30,
   "id": "c51d90b5",
   "metadata": {},
   "outputs": [
    {
     "data": {
      "text/plain": [
       "92"
      ]
     },
     "execution_count": 30,
     "metadata": {},
     "output_type": "execute_result"
    }
   ],
   "source": [
    "y = x_value + 47\n",
    "y"
   ]
  },
  {
   "cell_type": "code",
   "execution_count": 31,
   "id": "442c86e1",
   "metadata": {},
   "outputs": [
    {
     "name": "stdout",
     "output_type": "stream",
     "text": [
      "92\n"
     ]
    }
   ],
   "source": [
    "print (y)"
   ]
  },
  {
   "cell_type": "code",
   "execution_count": 32,
   "id": "50a737a0",
   "metadata": {},
   "outputs": [],
   "source": [
    "x_value = x_value/3"
   ]
  },
  {
   "cell_type": "code",
   "execution_count": 33,
   "id": "c21c8711",
   "metadata": {},
   "outputs": [
    {
     "data": {
      "text/plain": [
       "15.0"
      ]
     },
     "execution_count": 33,
     "metadata": {},
     "output_type": "execute_result"
    }
   ],
   "source": [
    "x_value"
   ]
  },
  {
   "cell_type": "code",
   "execution_count": 34,
   "id": "21474891",
   "metadata": {},
   "outputs": [
    {
     "name": "stdout",
     "output_type": "stream",
     "text": [
      "15.0\n"
     ]
    }
   ],
   "source": [
    "print (x_value)"
   ]
  },
  {
   "cell_type": "markdown",
   "id": "d5769b08",
   "metadata": {},
   "source": [
    "### Expression and Variables"
   ]
  },
  {
   "cell_type": "code",
   "execution_count": 35,
   "id": "dd24a3b1",
   "metadata": {},
   "outputs": [
    {
     "data": {
      "text/plain": [
       "102"
      ]
     },
     "execution_count": 35,
     "metadata": {},
     "output_type": "execute_result"
    }
   ],
   "source": [
    "5+3+5+89"
   ]
  },
  {
   "cell_type": "code",
   "execution_count": 36,
   "id": "7b32a4d6",
   "metadata": {},
   "outputs": [
    {
     "data": {
      "text/plain": [
       "784"
      ]
     },
     "execution_count": 36,
     "metadata": {},
     "output_type": "execute_result"
    }
   ],
   "source": [
    "98*8"
   ]
  },
  {
   "cell_type": "code",
   "execution_count": 37,
   "id": "ecfad030",
   "metadata": {},
   "outputs": [
    {
     "data": {
      "text/plain": [
       "76"
      ]
     },
     "execution_count": 37,
     "metadata": {},
     "output_type": "execute_result"
    }
   ],
   "source": [
    "34+76-34"
   ]
  },
  {
   "cell_type": "code",
   "execution_count": 38,
   "id": "e7f459b0",
   "metadata": {},
   "outputs": [
    {
     "data": {
      "text/plain": [
       "24"
      ]
     },
     "execution_count": 38,
     "metadata": {},
     "output_type": "execute_result"
    }
   ],
   "source": [
    "(3+3)*4"
   ]
  },
  {
   "cell_type": "code",
   "execution_count": 39,
   "id": "c6d0e178",
   "metadata": {},
   "outputs": [
    {
     "data": {
      "text/plain": [
       "18.5"
      ]
     },
     "execution_count": 39,
     "metadata": {},
     "output_type": "execute_result"
    }
   ],
   "source": [
    "37/2"
   ]
  },
  {
   "cell_type": "code",
   "execution_count": 40,
   "id": "7e0b6960",
   "metadata": {},
   "outputs": [
    {
     "data": {
      "text/plain": [
       "18"
      ]
     },
     "execution_count": 40,
     "metadata": {},
     "output_type": "execute_result"
    }
   ],
   "source": [
    "37//2"
   ]
  },
  {
   "cell_type": "code",
   "execution_count": 41,
   "id": "b5dedb3f",
   "metadata": {},
   "outputs": [
    {
     "name": "stdout",
     "output_type": "stream",
     "text": [
      "Hellow , world\n"
     ]
    }
   ],
   "source": [
    "print(\"Hellow , world\") #Print the traditional hello world"
   ]
  },
  {
   "cell_type": "code",
   "execution_count": 42,
   "id": "311004db",
   "metadata": {},
   "outputs": [
    {
     "name": "stdout",
     "output_type": "stream",
     "text": [
      " Michael Jackson \n",
      " is the best\n"
     ]
    }
   ],
   "source": [
    "print(\" Michael Jackson \\n is the best\" )"
   ]
  },
  {
   "cell_type": "code",
   "execution_count": 43,
   "id": "f007d6ac",
   "metadata": {},
   "outputs": [
    {
     "data": {
      "text/plain": [
       "'tahir husain'"
      ]
     },
     "execution_count": 43,
     "metadata": {},
     "output_type": "execute_result"
    }
   ],
   "source": [
    "Name = \"tahir \" \n",
    "Name = Name + \"husain\"\n",
    "Name\n"
   ]
  },
  {
   "cell_type": "code",
   "execution_count": 44,
   "id": "a0732aa0",
   "metadata": {},
   "outputs": [
    {
     "name": "stdout",
     "output_type": "stream",
     "text": [
      "you can call \t me professor\n"
     ]
    }
   ],
   "source": [
    "print (\"you can call \\t me professor\")"
   ]
  },
  {
   "cell_type": "markdown",
   "id": "5b391dd3",
   "metadata": {},
   "source": [
    "## converting into upper case"
   ]
  },
  {
   "cell_type": "code",
   "execution_count": 45,
   "id": "9f0c4d97",
   "metadata": {},
   "outputs": [
    {
     "name": "stdout",
     "output_type": "stream",
     "text": [
      "before upper case: hey, professor here!\n",
      "after upper case: HEY, PROFESSOR HERE!\n"
     ]
    }
   ],
   "source": [
    "a = \"hey, professor here!\"\n",
    "print (\"before upper case:\",a)\n",
    "b = a.upper()\n",
    "print (\"after upper case:\",b)"
   ]
  },
  {
   "cell_type": "code",
   "execution_count": 46,
   "id": "bef46c8a",
   "metadata": {},
   "outputs": [
    {
     "data": {
      "text/plain": [
       "'I LOVE YOU SO MUCH BABY'"
      ]
     },
     "execution_count": 46,
     "metadata": {},
     "output_type": "execute_result"
    }
   ],
   "source": [
    "a = \"I love you so much baby\"\n",
    "b= a.upper()\n",
    "b"
   ]
  },
  {
   "cell_type": "code",
   "execution_count": 47,
   "id": "2c1e4891",
   "metadata": {},
   "outputs": [
    {
     "data": {
      "text/plain": [
       "'money heist'"
      ]
     },
     "execution_count": 47,
     "metadata": {},
     "output_type": "execute_result"
    }
   ],
   "source": [
    "C = \"MONEY HEIST\"\n",
    "D = C.lower()\n",
    "D"
   ]
  },
  {
   "cell_type": "code",
   "execution_count": 48,
   "id": "768899fc",
   "metadata": {},
   "outputs": [
    {
     "data": {
      "text/plain": [
       "'I AM TAHIR ,BUT YOU CAN CALL ME PROFESSOR'"
      ]
     },
     "execution_count": 48,
     "metadata": {},
     "output_type": "execute_result"
    }
   ],
   "source": [
    "e = \"I am Tahir ,but you can call me professor\"\n",
    "f = e.upper()\n",
    "f"
   ]
  },
  {
   "cell_type": "code",
   "execution_count": 49,
   "id": "d36f1583",
   "metadata": {},
   "outputs": [
    {
     "data": {
      "text/plain": [
       "'I AM Berline ,BUT YOU CAN CALL ME PROFESSOR'"
      ]
     },
     "execution_count": 49,
     "metadata": {},
     "output_type": "execute_result"
    }
   ],
   "source": [
    "g = f.replace(\"TAHIR\",\"Berline\")\n",
    "g"
   ]
  },
  {
   "cell_type": "markdown",
   "id": "a0199cf8",
   "metadata": {},
   "source": [
    "## find substring"
   ]
  },
  {
   "cell_type": "code",
   "execution_count": 50,
   "id": "9e4638fd",
   "metadata": {},
   "outputs": [],
   "source": [
    "my_name = \"my name is khan\""
   ]
  },
  {
   "cell_type": "code",
   "execution_count": 51,
   "id": "721abbc6",
   "metadata": {},
   "outputs": [
    {
     "data": {
      "text/plain": [
       "-1"
      ]
     },
     "execution_count": 51,
     "metadata": {},
     "output_type": "execute_result"
    }
   ],
   "source": [
    "my_name.find(\"Khan\")"
   ]
  },
  {
   "cell_type": "markdown",
   "id": "0aef56b5",
   "metadata": {},
   "source": [
    "## slicing"
   ]
  },
  {
   "cell_type": "code",
   "execution_count": 52,
   "id": "c3afbd29",
   "metadata": {},
   "outputs": [
    {
     "data": {
      "text/plain": [
       "'my name '"
      ]
     },
     "execution_count": 52,
     "metadata": {},
     "output_type": "execute_result"
    }
   ],
   "source": [
    "my_name[0:8]"
   ]
  },
  {
   "cell_type": "code",
   "execution_count": 53,
   "id": "10cd0abb",
   "metadata": {},
   "outputs": [
    {
     "data": {
      "text/plain": [
       "'m aei'"
      ]
     },
     "execution_count": 53,
     "metadata": {},
     "output_type": "execute_result"
    }
   ],
   "source": [
    "my_name[0:10:2]"
   ]
  },
  {
   "cell_type": "markdown",
   "id": "0776f86e",
   "metadata": {},
   "source": [
    "## List "
   ]
  },
  {
   "cell_type": "code",
   "execution_count": 54,
   "id": "5323da74",
   "metadata": {},
   "outputs": [
    {
     "data": {
      "text/plain": [
       "list"
      ]
     },
     "execution_count": 54,
     "metadata": {},
     "output_type": "execute_result"
    }
   ],
   "source": [
    "my_list = [2,3.4,\"Professor\"]\n",
    "type(my_list)"
   ]
  },
  {
   "cell_type": "code",
   "execution_count": 55,
   "id": "f06114fc",
   "metadata": {},
   "outputs": [
    {
     "name": "stdout",
     "output_type": "stream",
     "text": [
      "2\n",
      "3.4\n",
      "Professor\n"
     ]
    }
   ],
   "source": [
    "print(my_list[0])\n",
    "print(my_list[1])\n",
    "print(my_list[2])\n"
   ]
  },
  {
   "cell_type": "code",
   "execution_count": 56,
   "id": "60fb6a71",
   "metadata": {},
   "outputs": [
    {
     "name": "stdout",
     "output_type": "stream",
     "text": [
      "<class 'int'>\n",
      "<class 'float'>\n",
      "<class 'str'>\n"
     ]
    }
   ],
   "source": [
    "print(type(my_list[0]))\n",
    "print(type(my_list[1]))\n",
    "print(type(my_list[2]))"
   ]
  },
  {
   "cell_type": "code",
   "execution_count": 57,
   "id": "f7707bb2",
   "metadata": {},
   "outputs": [],
   "source": [
    "my_list[2]=\"Tahir\""
   ]
  },
  {
   "cell_type": "code",
   "execution_count": 58,
   "id": "34e444d8",
   "metadata": {},
   "outputs": [],
   "source": [
    "my_list[0]=\"Moneyheist\""
   ]
  },
  {
   "cell_type": "code",
   "execution_count": 59,
   "id": "706e99e9",
   "metadata": {},
   "outputs": [
    {
     "data": {
      "text/plain": [
       "['Moneyheist', 3.4, 'Tahir']"
      ]
     },
     "execution_count": 59,
     "metadata": {},
     "output_type": "execute_result"
    }
   ],
   "source": [
    "my_list"
   ]
  },
  {
   "cell_type": "code",
   "execution_count": 60,
   "id": "fba0a659",
   "metadata": {},
   "outputs": [],
   "source": [
    "my_list1 = [2,4.4,(\"money\" ,\"heist\"),\"professor\",(3,4,7.2)]"
   ]
  },
  {
   "cell_type": "code",
   "execution_count": 61,
   "id": "89f5c5f5",
   "metadata": {},
   "outputs": [
    {
     "data": {
      "text/plain": [
       "list"
      ]
     },
     "execution_count": 61,
     "metadata": {},
     "output_type": "execute_result"
    }
   ],
   "source": [
    "type(my_list1)"
   ]
  },
  {
   "cell_type": "code",
   "execution_count": 62,
   "id": "387e53e6",
   "metadata": {},
   "outputs": [
    {
     "data": {
      "text/plain": [
       "(3, 4, 7.2)"
      ]
     },
     "execution_count": 62,
     "metadata": {},
     "output_type": "execute_result"
    }
   ],
   "source": [
    "my_list1[4]"
   ]
  },
  {
   "cell_type": "code",
   "execution_count": 63,
   "id": "61d8df4f",
   "metadata": {},
   "outputs": [
    {
     "data": {
      "text/plain": [
       "'professor'"
      ]
     },
     "execution_count": 63,
     "metadata": {},
     "output_type": "execute_result"
    }
   ],
   "source": [
    "my_list1[3]"
   ]
  },
  {
   "cell_type": "code",
   "execution_count": 64,
   "id": "8f2b3186",
   "metadata": {},
   "outputs": [
    {
     "data": {
      "text/plain": [
       "7.2"
      ]
     },
     "execution_count": 64,
     "metadata": {},
     "output_type": "execute_result"
    }
   ],
   "source": [
    "my_list1[4][2]"
   ]
  },
  {
   "cell_type": "code",
   "execution_count": 65,
   "id": "fc3fd188",
   "metadata": {},
   "outputs": [
    {
     "data": {
      "text/plain": [
       "3"
      ]
     },
     "execution_count": 65,
     "metadata": {},
     "output_type": "execute_result"
    }
   ],
   "source": [
    "my_list1[4][0]\n"
   ]
  },
  {
   "cell_type": "code",
   "execution_count": 66,
   "id": "a7dd1c42",
   "metadata": {},
   "outputs": [
    {
     "data": {
      "text/plain": [
       "float"
      ]
     },
     "execution_count": 66,
     "metadata": {},
     "output_type": "execute_result"
    }
   ],
   "source": [
    "type(my_list1[4][2])"
   ]
  },
  {
   "cell_type": "markdown",
   "id": "40c7afbd",
   "metadata": {},
   "source": [
    "## Insert and append in List"
   ]
  },
  {
   "cell_type": "code",
   "execution_count": 67,
   "id": "aef4468a",
   "metadata": {},
   "outputs": [
    {
     "data": {
      "text/plain": [
       "[420, 2, 4.4, ('money', 'heist'), 'professor', (3, 4, 7.2)]"
      ]
     },
     "execution_count": 67,
     "metadata": {},
     "output_type": "execute_result"
    }
   ],
   "source": [
    "my_list1.insert(0,420)\n",
    "my_list1"
   ]
  },
  {
   "cell_type": "code",
   "execution_count": 68,
   "id": "cdc69cb3",
   "metadata": {},
   "outputs": [],
   "source": [
    "my_list1.append(\"khalid\")"
   ]
  },
  {
   "cell_type": "code",
   "execution_count": 69,
   "id": "da7fd2f8",
   "metadata": {},
   "outputs": [
    {
     "data": {
      "text/plain": [
       "[420, 2, 4.4, ('money', 'heist'), 'professor', (3, 4, 7.2), 'khalid']"
      ]
     },
     "execution_count": 69,
     "metadata": {},
     "output_type": "execute_result"
    }
   ],
   "source": [
    "my_list1"
   ]
  },
  {
   "cell_type": "code",
   "execution_count": 70,
   "id": "7c684797",
   "metadata": {},
   "outputs": [
    {
     "data": {
      "text/plain": [
       "['Moneyheist', 3.4, 'Tahir']"
      ]
     },
     "execution_count": 70,
     "metadata": {},
     "output_type": "execute_result"
    }
   ],
   "source": [
    "my_list"
   ]
  },
  {
   "cell_type": "code",
   "execution_count": 71,
   "id": "dff64014",
   "metadata": {},
   "outputs": [
    {
     "data": {
      "text/plain": [
       "['Moneyheist', 3.4, 'Tahir', 45]"
      ]
     },
     "execution_count": 71,
     "metadata": {},
     "output_type": "execute_result"
    }
   ],
   "source": [
    "my_list.append(45)\n",
    "my_list"
   ]
  },
  {
   "cell_type": "code",
   "execution_count": 72,
   "id": "6ec51cc7",
   "metadata": {},
   "outputs": [
    {
     "data": {
      "text/plain": [
       "[41, 21.3, 55, 4.444, 'tahir', 'muhammad']"
      ]
     },
     "execution_count": 72,
     "metadata": {},
     "output_type": "execute_result"
    }
   ],
   "source": [
    "listrndm =[41, 21.3, 55, 4.444, \"tahir\",\"muhammad\"]\n",
    "listrndm"
   ]
  },
  {
   "cell_type": "code",
   "execution_count": 73,
   "id": "c72d6b3e",
   "metadata": {},
   "outputs": [
    {
     "data": {
      "text/plain": [
       "[41, 21.3, 55, 4.444, 'tahir', 'muhammad', 7]"
      ]
     },
     "execution_count": 73,
     "metadata": {},
     "output_type": "execute_result"
    }
   ],
   "source": [
    "listrndm.append(7)\n",
    "listrndm"
   ]
  },
  {
   "cell_type": "code",
   "execution_count": 74,
   "id": "a66e5a63",
   "metadata": {},
   "outputs": [
    {
     "ename": "TypeError",
     "evalue": "insert expected 2 arguments, got 3",
     "output_type": "error",
     "traceback": [
      "\u001b[1;31m---------------------------------------------------------------------------\u001b[0m",
      "\u001b[1;31mTypeError\u001b[0m                                 Traceback (most recent call last)",
      "\u001b[1;32m~\\AppData\\Local\\Temp\\ipykernel_1508\\1171095595.py\u001b[0m in \u001b[0;36m<module>\u001b[1;34m\u001b[0m\n\u001b[1;32m----> 1\u001b[1;33m \u001b[0mlistrndm\u001b[0m\u001b[1;33m.\u001b[0m\u001b[0minsert\u001b[0m\u001b[1;33m(\u001b[0m\u001b[1;36m7\u001b[0m\u001b[1;33m,\u001b[0m\u001b[1;36m5\u001b[0m\u001b[1;33m,\u001b[0m\u001b[1;36m8\u001b[0m\u001b[1;33m)\u001b[0m  \u001b[1;31m#insert takes two element max\u001b[0m\u001b[1;33m\u001b[0m\u001b[1;33m\u001b[0m\u001b[0m\n\u001b[0m",
      "\u001b[1;31mTypeError\u001b[0m: insert expected 2 arguments, got 3"
     ]
    }
   ],
   "source": [
    "listrndm.insert(7,5,8)  #insert takes two element max"
   ]
  },
  {
   "cell_type": "code",
   "execution_count": 75,
   "id": "98642dde",
   "metadata": {},
   "outputs": [
    {
     "data": {
      "text/plain": [
       "[41, 21.3, 55, 4.444, 'husain', 'tahir', 'muhammad', 7]"
      ]
     },
     "execution_count": 75,
     "metadata": {},
     "output_type": "execute_result"
    }
   ],
   "source": [
    "listrndm.insert(4,\"husain\") \n",
    "listrndm"
   ]
  },
  {
   "cell_type": "code",
   "execution_count": 76,
   "id": "fbca284f",
   "metadata": {},
   "outputs": [],
   "source": [
    "Q = [4,5,6,2,3,5,8,9,5]\n",
    "P = Q[:]        # making duplicate of list"
   ]
  },
  {
   "cell_type": "code",
   "execution_count": 77,
   "id": "9123722b",
   "metadata": {},
   "outputs": [
    {
     "name": "stdout",
     "output_type": "stream",
     "text": [
      "[4, 5, 6, 2, 3, 5, 8, 9, 5]\n",
      "[4, 5, 6, 2, 3, 5, 8, 9, 5]\n"
     ]
    }
   ],
   "source": [
    "print(Q)\n",
    "print(P)"
   ]
  },
  {
   "cell_type": "markdown",
   "id": "4813a9a2",
   "metadata": {},
   "source": [
    "## del and remove items from list "
   ]
  },
  {
   "cell_type": "code",
   "execution_count": 78,
   "id": "143cce36",
   "metadata": {},
   "outputs": [
    {
     "data": {
      "text/plain": [
       "['Moneyheist', 3.4, 'Tahir', 45]"
      ]
     },
     "execution_count": 78,
     "metadata": {},
     "output_type": "execute_result"
    }
   ],
   "source": [
    "my_list"
   ]
  },
  {
   "cell_type": "code",
   "execution_count": 79,
   "id": "d545e826",
   "metadata": {},
   "outputs": [
    {
     "data": {
      "text/plain": [
       "[3.4, 'Tahir', 45]"
      ]
     },
     "execution_count": 79,
     "metadata": {},
     "output_type": "execute_result"
    }
   ],
   "source": [
    "my_list.remove(\"Moneyheist\")\n",
    "my_list"
   ]
  },
  {
   "cell_type": "code",
   "execution_count": 80,
   "id": "b244522f",
   "metadata": {},
   "outputs": [
    {
     "data": {
      "text/plain": [
       "[420, 2, 4.4, ('money', 'heist'), 'professor', (3, 4, 7.2), 'khalid']"
      ]
     },
     "execution_count": 80,
     "metadata": {},
     "output_type": "execute_result"
    }
   ],
   "source": [
    "my_list1"
   ]
  },
  {
   "cell_type": "code",
   "execution_count": 81,
   "id": "02320c57",
   "metadata": {},
   "outputs": [
    {
     "data": {
      "text/plain": [
       "[2, 4.4, ('money', 'heist'), 'professor', (3, 4, 7.2), 'khalid']"
      ]
     },
     "execution_count": 81,
     "metadata": {},
     "output_type": "execute_result"
    }
   ],
   "source": [
    "my_list1.remove(420)\n",
    "my_list1"
   ]
  },
  {
   "cell_type": "code",
   "execution_count": 82,
   "id": "fda9ac56",
   "metadata": {},
   "outputs": [
    {
     "data": {
      "text/plain": [
       "['Tahir', 45]"
      ]
     },
     "execution_count": 82,
     "metadata": {},
     "output_type": "execute_result"
    }
   ],
   "source": [
    "del my_list[0]\n",
    "my_list"
   ]
  },
  {
   "cell_type": "code",
   "execution_count": 83,
   "id": "b22dc12d",
   "metadata": {},
   "outputs": [
    {
     "data": {
      "text/plain": [
       "[4.4, ('money', 'heist'), 'professor', (3, 4, 7.2), 'khalid']"
      ]
     },
     "execution_count": 83,
     "metadata": {},
     "output_type": "execute_result"
    }
   ],
   "source": [
    "del my_list1[0]\n",
    "my_list1"
   ]
  },
  {
   "cell_type": "code",
   "execution_count": 84,
   "id": "3a45bf13",
   "metadata": {},
   "outputs": [
    {
     "data": {
      "text/plain": [
       "[4.4, ('money', 'heist'), 'professor', (3, 4, 7.2), 'khalid']"
      ]
     },
     "execution_count": 84,
     "metadata": {},
     "output_type": "execute_result"
    }
   ],
   "source": [
    "my_list1"
   ]
  },
  {
   "cell_type": "code",
   "execution_count": 85,
   "id": "6631f7c3",
   "metadata": {},
   "outputs": [],
   "source": [
    "del my_list1[1]\n",
    "del my_list1[2]"
   ]
  },
  {
   "cell_type": "code",
   "execution_count": 86,
   "id": "f72250ad",
   "metadata": {},
   "outputs": [
    {
     "data": {
      "text/plain": [
       "[4.4, 'professor', 'khalid']"
      ]
     },
     "execution_count": 86,
     "metadata": {},
     "output_type": "execute_result"
    }
   ],
   "source": [
    "my_list1"
   ]
  },
  {
   "cell_type": "markdown",
   "id": "818d1742",
   "metadata": {},
   "source": [
    "# Tuple"
   ]
  },
  {
   "cell_type": "code",
   "execution_count": 87,
   "id": "98c9fd35",
   "metadata": {},
   "outputs": [
    {
     "data": {
      "text/plain": [
       "tuple"
      ]
     },
     "execution_count": 87,
     "metadata": {},
     "output_type": "execute_result"
    }
   ],
   "source": [
    "my_tuple = (23,22.33,\"Professor\")\n",
    "type(my_tuple)"
   ]
  },
  {
   "cell_type": "code",
   "execution_count": 88,
   "id": "1e5dd0fb",
   "metadata": {},
   "outputs": [
    {
     "data": {
      "text/plain": [
       "23"
      ]
     },
     "execution_count": 88,
     "metadata": {},
     "output_type": "execute_result"
    }
   ],
   "source": [
    "my_tuple[0]"
   ]
  },
  {
   "cell_type": "code",
   "execution_count": 89,
   "id": "b545b6bd",
   "metadata": {},
   "outputs": [
    {
     "ename": "TypeError",
     "evalue": "'tuple' object does not support item assignment",
     "output_type": "error",
     "traceback": [
      "\u001b[1;31m---------------------------------------------------------------------------\u001b[0m",
      "\u001b[1;31mTypeError\u001b[0m                                 Traceback (most recent call last)",
      "\u001b[1;32m~\\AppData\\Local\\Temp\\ipykernel_1508\\3535231063.py\u001b[0m in \u001b[0;36m<module>\u001b[1;34m\u001b[0m\n\u001b[1;32m----> 1\u001b[1;33m \u001b[0mmy_tuple\u001b[0m\u001b[1;33m[\u001b[0m\u001b[1;33m-\u001b[0m\u001b[1;36m1\u001b[0m\u001b[1;33m]\u001b[0m\u001b[1;33m=\u001b[0m\u001b[1;34m\"Tahir\"\u001b[0m \u001b[1;31m#we can't change the tuple items , tuples are immutable\u001b[0m\u001b[1;33m\u001b[0m\u001b[1;33m\u001b[0m\u001b[0m\n\u001b[0m",
      "\u001b[1;31mTypeError\u001b[0m: 'tuple' object does not support item assignment"
     ]
    }
   ],
   "source": [
    "my_tuple[-1]=\"Tahir\" #we can't change the tuple items , tuples are immutable "
   ]
  },
  {
   "cell_type": "code",
   "execution_count": 90,
   "id": "b52fafb0",
   "metadata": {},
   "outputs": [
    {
     "data": {
      "text/plain": [
       "[23, 22.33, 'Tahir']"
      ]
     },
     "execution_count": 90,
     "metadata": {},
     "output_type": "execute_result"
    }
   ],
   "source": [
    "my_tuple1=list(my_tuple) #conveting tuples into list\n",
    "#now we can change the items as tuple has been conveted into list \n",
    "my_tuple1[-1] = \"Tahir\" # changig items\n",
    "tuple(my_tuple1) #agin changing into tuple\n",
    "my_tuple1\n",
    "\n"
   ]
  },
  {
   "cell_type": "code",
   "execution_count": 91,
   "id": "5ec8f24d",
   "metadata": {},
   "outputs": [
    {
     "data": {
      "text/plain": [
       "list"
      ]
     },
     "execution_count": 91,
     "metadata": {},
     "output_type": "execute_result"
    }
   ],
   "source": [
    "type(my_tuple1)"
   ]
  },
  {
   "cell_type": "code",
   "execution_count": 92,
   "id": "0e6a6c1a",
   "metadata": {},
   "outputs": [
    {
     "data": {
      "text/plain": [
       "tuple"
      ]
     },
     "execution_count": 92,
     "metadata": {},
     "output_type": "execute_result"
    }
   ],
   "source": [
    "type(tuple(my_tuple1))"
   ]
  },
  {
   "cell_type": "code",
   "execution_count": 93,
   "id": "8e607c20",
   "metadata": {},
   "outputs": [
    {
     "data": {
      "text/plain": [
       "tuple"
      ]
     },
     "execution_count": 93,
     "metadata": {},
     "output_type": "execute_result"
    }
   ],
   "source": [
    "tuple1=(23,3,45,4.5,45,4.3,2,3,1,)\n",
    "type(tuple1)"
   ]
  },
  {
   "cell_type": "code",
   "execution_count": 94,
   "id": "c25b879e",
   "metadata": {},
   "outputs": [
    {
     "data": {
      "text/plain": [
       "tuple"
      ]
     },
     "execution_count": 94,
     "metadata": {},
     "output_type": "execute_result"
    }
   ],
   "source": [
    "tuple2=(98,9.0,8.998)\n",
    "type(tuple2)"
   ]
  },
  {
   "cell_type": "code",
   "execution_count": 95,
   "id": "6b814ec6",
   "metadata": {},
   "outputs": [
    {
     "data": {
      "text/plain": [
       "(23, 3, 45, 4.5, 45, 4.3, 2, 3, 1, 98, 9.0, 8.998)"
      ]
     },
     "execution_count": 95,
     "metadata": {},
     "output_type": "execute_result"
    }
   ],
   "source": [
    "tuple3=tuple1+tuple2 # adding two tuples as two tuples can be added  \n",
    "tuple3"
   ]
  },
  {
   "cell_type": "code",
   "execution_count": 96,
   "id": "7e5cd7ff",
   "metadata": {},
   "outputs": [
    {
     "data": {
      "text/plain": [
       "[1, 2, 3, 3, 4.3, 4.5, 8.998, 9.0, 23, 45, 45, 98]"
      ]
     },
     "execution_count": 96,
     "metadata": {},
     "output_type": "execute_result"
    }
   ],
   "source": [
    "sorted(tuple3) #sorting tuple\n"
   ]
  },
  {
   "cell_type": "code",
   "execution_count": 97,
   "id": "d0f06f7f",
   "metadata": {},
   "outputs": [
    {
     "name": "stdout",
     "output_type": "stream",
     "text": [
      "(23, 3, 45, 4.5, 45, 4.3, 2, 3, 1, 98, 9.0, 8.998)\n"
     ]
    }
   ],
   "source": [
    "print(tuple3)"
   ]
  },
  {
   "cell_type": "code",
   "execution_count": 98,
   "id": "962e2c23",
   "metadata": {},
   "outputs": [
    {
     "name": "stdout",
     "output_type": "stream",
     "text": [
      "[1, 2, 3, 3, 4.3, 4.5, 8.998, 9.0, 23, 45, 45, 98]\n"
     ]
    }
   ],
   "source": [
    "print(sorted(tuple3)) #sorting tuple"
   ]
  },
  {
   "cell_type": "code",
   "execution_count": 99,
   "id": "40da63e3",
   "metadata": {},
   "outputs": [
    {
     "data": {
      "text/plain": [
       "(23, 3, 45, 4.5)"
      ]
     },
     "execution_count": 99,
     "metadata": {},
     "output_type": "execute_result"
    }
   ],
   "source": [
    "tuple3[0:4]  #slicing print of tuple"
   ]
  },
  {
   "cell_type": "code",
   "execution_count": 100,
   "id": "b98687a2",
   "metadata": {},
   "outputs": [
    {
     "data": {
      "text/plain": [
       "(23, 4.5, 2, 98)"
      ]
     },
     "execution_count": 100,
     "metadata": {},
     "output_type": "execute_result"
    }
   ],
   "source": [
    "tuple3[0:11:3]    #slicing print of every 3rd item of the tuple3 "
   ]
  },
  {
   "cell_type": "markdown",
   "id": "d2b863b0",
   "metadata": {},
   "source": [
    "### Nesting tuple \n",
    "#### tuples under a tulple "
   ]
  },
  {
   "cell_type": "code",
   "execution_count": 101,
   "id": "2ba8164c",
   "metadata": {},
   "outputs": [
    {
     "data": {
      "text/plain": [
       "(23, 2.3, 34, 'Tahir', ('money', 'professor'), 45, 50, ('love', 'ajkal'))"
      ]
     },
     "execution_count": 101,
     "metadata": {},
     "output_type": "execute_result"
    }
   ],
   "source": [
    "nestedtp = (23,2.3,34,\"Tahir\",(\"money\",\"professor\"),45,50,(\"love\",\"ajkal\"))    #nested tuple \n",
    "nestedtp"
   ]
  },
  {
   "cell_type": "code",
   "execution_count": 102,
   "id": "e0b9492e",
   "metadata": {},
   "outputs": [
    {
     "data": {
      "text/plain": [
       "('love', 'ajkal')"
      ]
     },
     "execution_count": 102,
     "metadata": {},
     "output_type": "execute_result"
    }
   ],
   "source": [
    "nestedtp[-1]"
   ]
  },
  {
   "cell_type": "code",
   "execution_count": 103,
   "id": "c7c282c4",
   "metadata": {},
   "outputs": [
    {
     "data": {
      "text/plain": [
       "23"
      ]
     },
     "execution_count": 103,
     "metadata": {},
     "output_type": "execute_result"
    }
   ],
   "source": [
    "nestedtp[0]"
   ]
  },
  {
   "cell_type": "code",
   "execution_count": 104,
   "id": "585d891a",
   "metadata": {},
   "outputs": [
    {
     "data": {
      "text/plain": [
       "'ajkal'"
      ]
     },
     "execution_count": 104,
     "metadata": {},
     "output_type": "execute_result"
    }
   ],
   "source": [
    "nestedtp[-1][-1]"
   ]
  },
  {
   "cell_type": "code",
   "execution_count": 105,
   "id": "9f55bde4",
   "metadata": {},
   "outputs": [
    {
     "data": {
      "text/plain": [
       "'money'"
      ]
     },
     "execution_count": 105,
     "metadata": {},
     "output_type": "execute_result"
    }
   ],
   "source": [
    "nestedtp[4][0]"
   ]
  },
  {
   "cell_type": "code",
   "execution_count": 106,
   "id": "34eb2a5c",
   "metadata": {},
   "outputs": [
    {
     "data": {
      "text/plain": [
       "'professor'"
      ]
     },
     "execution_count": 106,
     "metadata": {},
     "output_type": "execute_result"
    }
   ],
   "source": [
    "nestedtp[4][-1]"
   ]
  },
  {
   "cell_type": "code",
   "execution_count": 107,
   "id": "8796ae0a",
   "metadata": {},
   "outputs": [
    {
     "data": {
      "text/plain": [
       "3"
      ]
     },
     "execution_count": 107,
     "metadata": {},
     "output_type": "execute_result"
    }
   ],
   "source": [
    "nestedtp.index(\"Tahir\")   # finding index of the tuple's items\n"
   ]
  },
  {
   "cell_type": "code",
   "execution_count": 108,
   "id": "1dc256fd",
   "metadata": {},
   "outputs": [
    {
     "data": {
      "text/plain": [
       "0"
      ]
     },
     "execution_count": 108,
     "metadata": {},
     "output_type": "execute_result"
    }
   ],
   "source": [
    "nestedtp.index(23)"
   ]
  },
  {
   "cell_type": "markdown",
   "id": "65fea29c",
   "metadata": {},
   "source": [
    "## Dictionay in Python"
   ]
  },
  {
   "cell_type": "code",
   "execution_count": 109,
   "id": "317e49dc",
   "metadata": {},
   "outputs": [],
   "source": [
    "# A dictionary consists of keys and values. It is helpful to compare a dictionary to a list. Instead of being indexed numerically like a list, dictionaries have keys. These keys are the keys that are used to access values within a dictionary.\n"
   ]
  },
  {
   "cell_type": "code",
   "execution_count": 110,
   "id": "356282d2",
   "metadata": {},
   "outputs": [],
   "source": [
    "my_dictionary = {\"heist\":2021, \"GOT\":2015, \"Lord of the rings\":2003, \"harry\":2009, \"hritik\":\"superstar\", \"shahrukh\":\"king khan\"}"
   ]
  },
  {
   "cell_type": "code",
   "execution_count": 111,
   "id": "f70cc9e8",
   "metadata": {},
   "outputs": [
    {
     "name": "stdout",
     "output_type": "stream",
     "text": [
      "{'heist': 2021, 'GOT': 2015, 'Lord of the rings': 2003, 'harry': 2009, 'hritik': 'superstar', 'shahrukh': 'king khan'}\n"
     ]
    }
   ],
   "source": [
    "print(my_dictionary)"
   ]
  },
  {
   "cell_type": "code",
   "execution_count": 112,
   "id": "e721692e",
   "metadata": {},
   "outputs": [
    {
     "data": {
      "text/plain": [
       "2021"
      ]
     },
     "execution_count": 112,
     "metadata": {},
     "output_type": "execute_result"
    }
   ],
   "source": [
    "my_dictionary[\"heist\"]"
   ]
  },
  {
   "cell_type": "code",
   "execution_count": 113,
   "id": "a2c2904f",
   "metadata": {},
   "outputs": [
    {
     "data": {
      "text/plain": [
       "dict"
      ]
     },
     "execution_count": 113,
     "metadata": {},
     "output_type": "execute_result"
    }
   ],
   "source": [
    "type(my_dictionary)"
   ]
  },
  {
   "cell_type": "code",
   "execution_count": 114,
   "id": "cbcf7ed1",
   "metadata": {},
   "outputs": [],
   "source": [
    "my_dictionary[\"Salman\"]= \"Dabang\"  #adding item to the dictonary "
   ]
  },
  {
   "cell_type": "code",
   "execution_count": 115,
   "id": "27b70f80",
   "metadata": {},
   "outputs": [
    {
     "data": {
      "text/plain": [
       "{'heist': 2021,\n",
       " 'GOT': 2015,\n",
       " 'Lord of the rings': 2003,\n",
       " 'harry': 2009,\n",
       " 'hritik': 'superstar',\n",
       " 'shahrukh': 'king khan',\n",
       " 'Salman': 'Dabang'}"
      ]
     },
     "execution_count": 115,
     "metadata": {},
     "output_type": "execute_result"
    }
   ],
   "source": [
    "my_dictionary"
   ]
  },
  {
   "cell_type": "code",
   "execution_count": 116,
   "id": "75f3e281",
   "metadata": {},
   "outputs": [
    {
     "data": {
      "text/plain": [
       "True"
      ]
     },
     "execution_count": 116,
     "metadata": {},
     "output_type": "execute_result"
    }
   ],
   "source": [
    "\"Salman\" in my_dictionary   #varifying  "
   ]
  },
  {
   "cell_type": "code",
   "execution_count": 117,
   "id": "8a8423e3",
   "metadata": {},
   "outputs": [
    {
     "data": {
      "text/plain": [
       "True"
      ]
     },
     "execution_count": 117,
     "metadata": {},
     "output_type": "execute_result"
    }
   ],
   "source": [
    "\"GOT\" and \"harry\" in my_dictionary  #varifying the items in the dic "
   ]
  },
  {
   "cell_type": "code",
   "execution_count": 118,
   "id": "e5d1cb9b",
   "metadata": {},
   "outputs": [
    {
     "data": {
      "text/plain": [
       "dict_keys(['heist', 'GOT', 'Lord of the rings', 'harry', 'hritik', 'shahrukh', 'Salman'])"
      ]
     },
     "execution_count": 118,
     "metadata": {},
     "output_type": "execute_result"
    }
   ],
   "source": [
    "my_dictionary.keys() #get all the keys in the dictionary"
   ]
  },
  {
   "cell_type": "code",
   "execution_count": 119,
   "id": "6119af95",
   "metadata": {},
   "outputs": [
    {
     "data": {
      "text/plain": [
       "dict_values([2021, 2015, 2003, 2009, 'superstar', 'king khan', 'Dabang'])"
      ]
     },
     "execution_count": 119,
     "metadata": {},
     "output_type": "execute_result"
    }
   ],
   "source": [
    "my_dictionary.values()  #get all the values in the dictonary "
   ]
  },
  {
   "cell_type": "code",
   "execution_count": 120,
   "id": "f2045ef3",
   "metadata": {},
   "outputs": [
    {
     "name": "stdout",
     "output_type": "stream",
     "text": [
      "{'heist': 2021, 'GOT': 2015, 'Lord of the rings': 2003, 'harry': 2009, 'hritik': 'superstar', 'shahrukh': 'king khan', 'Salman': 'Dabang'}\n"
     ]
    }
   ],
   "source": [
    "print(my_dictionary)\n"
   ]
  },
  {
   "cell_type": "code",
   "execution_count": 121,
   "id": "c7e1af7e",
   "metadata": {},
   "outputs": [
    {
     "data": {
      "text/plain": [
       "{'heist': 2021,\n",
       " 'Lord of the rings': 2003,\n",
       " 'harry': 2009,\n",
       " 'hritik': 'superstar',\n",
       " 'shahrukh': 'king khan',\n",
       " 'Salman': 'Dabang'}"
      ]
     },
     "execution_count": 121,
     "metadata": {},
     "output_type": "execute_result"
    }
   ],
   "source": [
    "del my_dictionary[\"GOT\"] #deleting the item form dic\n",
    "my_dictionary"
   ]
  },
  {
   "cell_type": "markdown",
   "id": "65f71eff",
   "metadata": {},
   "source": [
    "# Set "
   ]
  },
  {
   "cell_type": "markdown",
   "id": "fbe04afd",
   "metadata": {},
   "source": [
    "#### A set is a unique collection of objects in Python. You can denote a set with a pair of curly brackets . Python will automatically remove duplicate items:\n"
   ]
  },
  {
   "cell_type": "code",
   "execution_count": 122,
   "id": "483e65f7",
   "metadata": {},
   "outputs": [
    {
     "data": {
      "text/plain": [
       "set"
      ]
     },
     "execution_count": 122,
     "metadata": {},
     "output_type": "execute_result"
    }
   ],
   "source": [
    "my_set = {\"tahir\", \"professor\", \"money\", 21, 12.55, False, \"tahir\", \"professor\"}   #creating a set \n",
    "type(my_set)"
   ]
  },
  {
   "cell_type": "code",
   "execution_count": 123,
   "id": "9c371af2",
   "metadata": {},
   "outputs": [
    {
     "name": "stdout",
     "output_type": "stream",
     "text": [
      "{False, 21, 'professor', 12.55, 'tahir', 'money'}\n"
     ]
    }
   ],
   "source": [
    "print(my_set)   # set collect only unique value ,see the bellow all the duplicates has been removed "
   ]
  },
  {
   "cell_type": "code",
   "execution_count": 124,
   "id": "26506f93",
   "metadata": {},
   "outputs": [
    {
     "data": {
      "text/plain": [
       "list"
      ]
     },
     "execution_count": 124,
     "metadata": {},
     "output_type": "execute_result"
    }
   ],
   "source": [
    "new_list = [\"tahir\",\"professor\",21, False]  #this is a list \n",
    "type(new_list)"
   ]
  },
  {
   "cell_type": "code",
   "execution_count": 125,
   "id": "87bb10b8",
   "metadata": {},
   "outputs": [
    {
     "data": {
      "text/plain": [
       "set"
      ]
     },
     "execution_count": 125,
     "metadata": {},
     "output_type": "execute_result"
    }
   ],
   "source": [
    "new_set = set(new_list)  # converting new_list into a set \n",
    "type(new_set)"
   ]
  },
  {
   "cell_type": "markdown",
   "id": "668d8a96",
   "metadata": {},
   "source": [
    "#### adding , remove  in set:"
   ]
  },
  {
   "cell_type": "code",
   "execution_count": 126,
   "id": "ad9f2537",
   "metadata": {},
   "outputs": [
    {
     "data": {
      "text/plain": [
       "{12.55, 21, False, 'husain', 'money', 'professor', 'tahir'}"
      ]
     },
     "execution_count": 126,
     "metadata": {},
     "output_type": "execute_result"
    }
   ],
   "source": [
    "my_set.add(\"husain\")   #adding items into set \n",
    "my_set"
   ]
  },
  {
   "cell_type": "code",
   "execution_count": 127,
   "id": "20d47755",
   "metadata": {},
   "outputs": [
    {
     "data": {
      "text/plain": [
       "{21, False, 'husain', 'professor', 'tahir'}"
      ]
     },
     "execution_count": 127,
     "metadata": {},
     "output_type": "execute_result"
    }
   ],
   "source": [
    "new_set.add(\"husain\")\n",
    "new_set"
   ]
  },
  {
   "cell_type": "code",
   "execution_count": 128,
   "id": "b315a20c",
   "metadata": {},
   "outputs": [
    {
     "data": {
      "text/plain": [
       "True"
      ]
     },
     "execution_count": 128,
     "metadata": {},
     "output_type": "execute_result"
    }
   ],
   "source": [
    "\"husain\" in new_set #varifying the elements "
   ]
  },
  {
   "cell_type": "code",
   "execution_count": 129,
   "id": "d037781f",
   "metadata": {},
   "outputs": [
    {
     "data": {
      "text/plain": [
       "{12.55, 21, 'husain', 'money', 'professor', 'tahir'}"
      ]
     },
     "execution_count": 129,
     "metadata": {},
     "output_type": "execute_result"
    }
   ],
   "source": [
    "my_set.remove(False) #removing an elements from our set\n",
    "my_set"
   ]
  },
  {
   "cell_type": "code",
   "execution_count": 130,
   "id": "345255a6",
   "metadata": {},
   "outputs": [
    {
     "data": {
      "text/plain": [
       "{21, 'husain', 'professor', 'tahir'}"
      ]
     },
     "execution_count": 130,
     "metadata": {},
     "output_type": "execute_result"
    }
   ],
   "source": [
    "new_set.remove(False)\n",
    "new_set"
   ]
  },
  {
   "cell_type": "markdown",
   "id": "6c6acbe5",
   "metadata": {},
   "source": [
    "###  subset,intersection and union "
   ]
  },
  {
   "cell_type": "code",
   "execution_count": 131,
   "id": "ab17c63b",
   "metadata": {},
   "outputs": [
    {
     "data": {
      "text/plain": [
       "{'husain', 'tahir'}"
      ]
     },
     "execution_count": 131,
     "metadata": {},
     "output_type": "execute_result"
    }
   ],
   "source": [
    "set3 = {\"tahir\",\"husain\"}\n",
    "set3"
   ]
  },
  {
   "cell_type": "code",
   "execution_count": 132,
   "id": "42dc56b8",
   "metadata": {},
   "outputs": [
    {
     "name": "stdout",
     "output_type": "stream",
     "text": [
      "{21, 'husain', 'professor', 12.55, 'tahir', 'money'}\n",
      "{21, 'husain', 'professor', 'tahir'}\n"
     ]
    }
   ],
   "source": [
    "print(my_set)\n",
    "print(new_set)"
   ]
  },
  {
   "cell_type": "code",
   "execution_count": 133,
   "id": "f1553389",
   "metadata": {},
   "outputs": [
    {
     "data": {
      "text/plain": [
       "{12.55, 'money'}"
      ]
     },
     "execution_count": 133,
     "metadata": {},
     "output_type": "execute_result"
    }
   ],
   "source": [
    "my_set - new_set   #subtraction"
   ]
  },
  {
   "cell_type": "code",
   "execution_count": 134,
   "id": "a8c1f46d",
   "metadata": {},
   "outputs": [
    {
     "data": {
      "text/plain": [
       "True"
      ]
     },
     "execution_count": 134,
     "metadata": {},
     "output_type": "execute_result"
    }
   ],
   "source": [
    "set3.issubset(my_set) #checking of subset"
   ]
  },
  {
   "cell_type": "code",
   "execution_count": 135,
   "id": "601052bd",
   "metadata": {},
   "outputs": [
    {
     "data": {
      "text/plain": [
       "True"
      ]
     },
     "execution_count": 135,
     "metadata": {},
     "output_type": "execute_result"
    }
   ],
   "source": [
    "set3.issubset(new_set)"
   ]
  },
  {
   "cell_type": "code",
   "execution_count": 136,
   "id": "f086ac85",
   "metadata": {},
   "outputs": [
    {
     "data": {
      "text/plain": [
       "True"
      ]
     },
     "execution_count": 136,
     "metadata": {},
     "output_type": "execute_result"
    }
   ],
   "source": [
    "set3.issubset(my_set and new_set)"
   ]
  },
  {
   "cell_type": "code",
   "execution_count": 137,
   "id": "67a67cd5",
   "metadata": {},
   "outputs": [
    {
     "data": {
      "text/plain": [
       "{21, 'husain', 'professor', 'tahir'}"
      ]
     },
     "execution_count": 137,
     "metadata": {},
     "output_type": "execute_result"
    }
   ],
   "source": [
    "\n",
    "my_set.intersection(new_set)   #checking intersecton"
   ]
  },
  {
   "cell_type": "code",
   "execution_count": 138,
   "id": "d7630e9f",
   "metadata": {},
   "outputs": [
    {
     "data": {
      "text/plain": [
       "{21, 'husain', 'professor', 'tahir'}"
      ]
     },
     "execution_count": 138,
     "metadata": {},
     "output_type": "execute_result"
    }
   ],
   "source": [
    "my_set & new_set # we can also check intersection by & "
   ]
  },
  {
   "cell_type": "code",
   "execution_count": 139,
   "id": "5454a75a",
   "metadata": {},
   "outputs": [
    {
     "data": {
      "text/plain": [
       "{21, 'husain', 'professor', 'tahir'}"
      ]
     },
     "execution_count": 139,
     "metadata": {},
     "output_type": "execute_result"
    }
   ],
   "source": [
    "new_set.intersection(my_set)"
   ]
  },
  {
   "cell_type": "code",
   "execution_count": 140,
   "id": "554d680e",
   "metadata": {},
   "outputs": [
    {
     "data": {
      "text/plain": [
       "{12.55, 21, 'husain', 'money', 'professor', 'tahir'}"
      ]
     },
     "execution_count": 140,
     "metadata": {},
     "output_type": "execute_result"
    }
   ],
   "source": [
    "my_set.union(new_set)"
   ]
  },
  {
   "cell_type": "code",
   "execution_count": 141,
   "id": "bb0264c9",
   "metadata": {},
   "outputs": [
    {
     "data": {
      "text/plain": [
       "{12.55, 21, 'husain', 'money', 'professor', 'tahir'}"
      ]
     },
     "execution_count": 141,
     "metadata": {},
     "output_type": "execute_result"
    }
   ],
   "source": [
    "my_set | new_set # other way to find union "
   ]
  },
  {
   "cell_type": "code",
   "execution_count": 142,
   "id": "7b6b7330",
   "metadata": {},
   "outputs": [
    {
     "data": {
      "text/plain": [
       "{12.55, 21, 'husain', 'money', 'professor', 'tahir'}"
      ]
     },
     "execution_count": 142,
     "metadata": {},
     "output_type": "execute_result"
    }
   ],
   "source": [
    "my_set.union(new_set and set3)"
   ]
  },
  {
   "cell_type": "code",
   "execution_count": 143,
   "id": "8ea6c601",
   "metadata": {},
   "outputs": [
    {
     "data": {
      "text/plain": [
       "{12.55, 21, 'husain', 'money', 'professor', 'tahir'}"
      ]
     },
     "execution_count": 143,
     "metadata": {},
     "output_type": "execute_result"
    }
   ],
   "source": [
    "my_set | new_set | set3  # or "
   ]
  },
  {
   "cell_type": "code",
   "execution_count": 144,
   "id": "a5d24d1c",
   "metadata": {},
   "outputs": [
    {
     "data": {
      "text/plain": [
       "{21, 'husain', 'professor', 'tahir'}"
      ]
     },
     "execution_count": 144,
     "metadata": {},
     "output_type": "execute_result"
    }
   ],
   "source": [
    "new_set.union(set3)"
   ]
  },
  {
   "cell_type": "code",
   "execution_count": 145,
   "id": "cf910506",
   "metadata": {},
   "outputs": [
    {
     "data": {
      "text/plain": [
       "{12.55, 21, 'husain', 'money', 'professor', 'tahir'}"
      ]
     },
     "execution_count": 145,
     "metadata": {},
     "output_type": "execute_result"
    }
   ],
   "source": [
    "new_set.union(my_set,set3)"
   ]
  },
  {
   "cell_type": "markdown",
   "id": "1bd8da53",
   "metadata": {},
   "source": [
    "# if ,elif , else function \n",
    "#### for eqal (==), for not equal (!+=) ,greater than (>) , less than (<), greater than or equal (>=), less than or equal (<=)"
   ]
  },
  {
   "cell_type": "code",
   "execution_count": 146,
   "id": "e5234af1",
   "metadata": {},
   "outputs": [],
   "source": [
    "a1 = 3\n",
    "a3 = 4\n",
    "a2 = 5 \n",
    "a4 = 3"
   ]
  },
  {
   "cell_type": "code",
   "execution_count": 147,
   "id": "edbb9217",
   "metadata": {},
   "outputs": [
    {
     "data": {
      "text/plain": [
       "False"
      ]
     },
     "execution_count": 147,
     "metadata": {},
     "output_type": "execute_result"
    }
   ],
   "source": [
    "a1>a2"
   ]
  },
  {
   "cell_type": "code",
   "execution_count": 148,
   "id": "1af08961",
   "metadata": {},
   "outputs": [
    {
     "data": {
      "text/plain": [
       "False"
      ]
     },
     "execution_count": 148,
     "metadata": {},
     "output_type": "execute_result"
    }
   ],
   "source": [
    "a3<a4"
   ]
  },
  {
   "cell_type": "code",
   "execution_count": 149,
   "id": "bf71f473",
   "metadata": {},
   "outputs": [
    {
     "data": {
      "text/plain": [
       "True"
      ]
     },
     "execution_count": 149,
     "metadata": {},
     "output_type": "execute_result"
    }
   ],
   "source": [
    "a1==a4"
   ]
  },
  {
   "cell_type": "code",
   "execution_count": 150,
   "id": "752f6276",
   "metadata": {},
   "outputs": [
    {
     "data": {
      "text/plain": [
       "False"
      ]
     },
     "execution_count": 150,
     "metadata": {},
     "output_type": "execute_result"
    }
   ],
   "source": [
    "a1!=a4"
   ]
  },
  {
   "cell_type": "code",
   "execution_count": 151,
   "id": "9910d11e",
   "metadata": {},
   "outputs": [
    {
     "data": {
      "text/plain": [
       "True"
      ]
     },
     "execution_count": 151,
     "metadata": {},
     "output_type": "execute_result"
    }
   ],
   "source": [
    "a1>=a4"
   ]
  },
  {
   "cell_type": "code",
   "execution_count": 152,
   "id": "691d6a51",
   "metadata": {},
   "outputs": [
    {
     "name": "stdout",
     "output_type": "stream",
     "text": [
      "movie is ok\n"
     ]
    }
   ],
   "source": [
    "rating = 8.5\n",
    "if rating>8.5:\n",
    "    print(\"movie is amazing\")\n",
    "else:\n",
    "    print(\"movie is ok\")"
   ]
  },
  {
   "cell_type": "code",
   "execution_count": 153,
   "id": "5259a88f",
   "metadata": {},
   "outputs": [
    {
     "name": "stdout",
     "output_type": "stream",
     "text": [
      "you can watch this movie\n",
      "Good, Bye\n"
     ]
    }
   ],
   "source": [
    "age = 20\n",
    "if age>18:\n",
    "    print(\"you can watch this movie\")\n",
    "else:\n",
    "    print(\"you can't watch this movie\")\n",
    "print (\"Good, Bye\")"
   ]
  },
  {
   "cell_type": "code",
   "execution_count": 158,
   "id": "1bdbfdb3",
   "metadata": {},
   "outputs": [
    {
     "name": "stdout",
     "output_type": "stream",
     "text": [
      "Enter your age:24\n",
      "you can drive\n"
     ]
    }
   ],
   "source": [
    "age = int(input(\"Enter your age:\",))\n",
    "if age>=18:\n",
    "    print(\"you can drive\")\n",
    "else:\n",
    "    print(\"you can't drive\")     # if and else is for two condition only\n",
    "    "
   ]
  },
  {
   "cell_type": "code",
   "execution_count": 155,
   "id": "520d33e3",
   "metadata": {},
   "outputs": [
    {
     "name": "stdout",
     "output_type": "stream",
     "text": [
      "Enter your percentage:75\n",
      "passed with first division\n"
     ]
    }
   ],
   "source": [
    "Marks_percentage = float(input(\"Enter your percentage:\",))      ## if , elif and else used for the multiple condition \n",
    "if Marks_percentage>=60:\n",
    "    print(\"passed with first division\")\n",
    "elif Marks_percentage>=45:\n",
    "    print(\"passed with secound division\")\n",
    "elif Marks_percentage>=33:\n",
    "    print(\"passed with third division\")\n",
    "else:\n",
    "    print(\"fail\")"
   ]
  },
  {
   "cell_type": "markdown",
   "id": "a9df5e59",
   "metadata": {},
   "source": [
    "### for loop \n",
    "#### when we know the number if iteration then we prefer for loop "
   ]
  },
  {
   "cell_type": "code",
   "execution_count": 156,
   "id": "3f3f4c6e",
   "metadata": {},
   "outputs": [
    {
     "name": "stdout",
     "output_type": "stream",
     "text": [
      "0\n",
      "1\n",
      "2\n",
      "3\n",
      "4\n",
      "5\n",
      "6\n",
      "7\n",
      "8\n",
      "9\n"
     ]
    }
   ],
   "source": [
    "for i in range(10):\n",
    "    print(i)"
   ]
  },
  {
   "cell_type": "code",
   "execution_count": 157,
   "id": "41ee2c52",
   "metadata": {},
   "outputs": [
    {
     "name": "stdout",
     "output_type": "stream",
     "text": [
      "1\n",
      "2\n",
      "3\n",
      "4\n",
      "5\n",
      "6\n",
      "7\n",
      "8\n",
      "9\n",
      "10\n",
      "11\n",
      "12\n",
      "13\n",
      "14\n",
      "15\n",
      "16\n",
      "17\n",
      "18\n",
      "19\n",
      "20\n",
      "21\n",
      "22\n",
      "23\n",
      "24\n",
      "25\n",
      "26\n",
      "27\n",
      "28\n",
      "29\n",
      "30\n",
      "31\n",
      "32\n",
      "33\n",
      "34\n",
      "35\n",
      "36\n",
      "37\n",
      "38\n",
      "39\n",
      "40\n",
      "41\n",
      "42\n",
      "43\n",
      "44\n",
      "45\n",
      "46\n",
      "47\n",
      "48\n",
      "49\n",
      "50\n",
      "51\n",
      "52\n",
      "53\n",
      "54\n",
      "55\n",
      "56\n",
      "57\n",
      "58\n",
      "59\n",
      "60\n",
      "61\n",
      "62\n",
      "63\n",
      "64\n",
      "65\n",
      "66\n",
      "67\n",
      "68\n",
      "69\n",
      "70\n",
      "71\n",
      "72\n",
      "73\n",
      "74\n",
      "75\n",
      "76\n",
      "77\n",
      "78\n",
      "79\n",
      "80\n",
      "81\n",
      "82\n",
      "83\n",
      "84\n",
      "85\n",
      "86\n",
      "87\n",
      "88\n",
      "89\n",
      "90\n",
      "91\n",
      "92\n",
      "93\n",
      "94\n",
      "95\n",
      "96\n",
      "97\n",
      "98\n",
      "99\n",
      "100\n"
     ]
    }
   ],
   "source": [
    "for i in range (1,101):    #writing count 1 to 100\n",
    "    print(i)"
   ]
  },
  {
   "cell_type": "code",
   "execution_count": 159,
   "id": "0281197d",
   "metadata": {},
   "outputs": [
    {
     "name": "stdout",
     "output_type": "stream",
     "text": [
      "2\n",
      "4\n",
      "6\n",
      "8\n",
      "10\n",
      "12\n",
      "14\n",
      "16\n",
      "18\n",
      "20\n"
     ]
    }
   ],
   "source": [
    "for i in range(2,21,2):  #writing table of 2 \n",
    "    print(i)\n"
   ]
  },
  {
   "cell_type": "code",
   "execution_count": 160,
   "id": "a026bfda",
   "metadata": {},
   "outputs": [
    {
     "name": "stdout",
     "output_type": "stream",
     "text": [
      "79\n",
      "158\n",
      "237\n",
      "316\n",
      "395\n",
      "474\n",
      "553\n",
      "632\n",
      "711\n",
      "790\n"
     ]
    }
   ],
   "source": [
    "for i in range (79,791,79): #writing table of 79\n",
    "    print(i)"
   ]
  },
  {
   "cell_type": "code",
   "execution_count": 161,
   "id": "ba1bd046",
   "metadata": {},
   "outputs": [
    {
     "name": "stdout",
     "output_type": "stream",
     "text": [
      "956512\n",
      "1913024\n",
      "2869536\n",
      "3826048\n",
      "4782560\n",
      "5739072\n",
      "6695584\n",
      "7652096\n",
      "8608608\n",
      "9565120\n"
     ]
    }
   ],
   "source": [
    "for i in range (956512,9565121,956512): # table of 956512 on jitu demond \n",
    "    print(i)"
   ]
  },
  {
   "cell_type": "code",
   "execution_count": 162,
   "id": "154429f3",
   "metadata": {},
   "outputs": [
    {
     "name": "stdout",
     "output_type": "stream",
     "text": [
      "red\n",
      "pink\n",
      "white\n",
      "Yellow\n",
      "Ghreen\n",
      "Black\n"
     ]
    }
   ],
   "source": [
    "colour = [\"red\", \"pink\", \"white\", \"Yellow\", \"Ghreen\", \"Black\"]\n",
    "for i in colour:\n",
    "    print(i)"
   ]
  },
  {
   "cell_type": "code",
   "execution_count": 163,
   "id": "f2cd8449",
   "metadata": {},
   "outputs": [
    {
     "name": "stdout",
     "output_type": "stream",
     "text": [
      "a is a small letter\n",
      "b is a small letter\n",
      "c is a small letter\n",
      "d is a small letter\n",
      "e is a small letter\n"
     ]
    }
   ],
   "source": [
    "E = ('a', 'b', 'c', 'd', 'e')\n",
    "for i in E:\n",
    "    print(i, \"is a small letter\")"
   ]
  },
  {
   "cell_type": "code",
   "execution_count": 164,
   "id": "2128ac62",
   "metadata": {},
   "outputs": [
    {
     "name": "stdout",
     "output_type": "stream",
     "text": [
      "A a\n",
      "B a\n",
      "C a\n",
      "D a\n"
     ]
    }
   ],
   "source": [
    "E1 = [\"A\", \"B\" ,\"C\", 'D']\n",
    "for i in E1:\n",
    "    print(i,\"a\")"
   ]
  },
  {
   "cell_type": "code",
   "execution_count": 165,
   "id": "f2e50aa2",
   "metadata": {},
   "outputs": [
    {
     "name": "stdout",
     "output_type": "stream",
     "text": [
      "0 A\n",
      "1 B\n",
      "2 C\n",
      "3 D\n"
     ]
    }
   ],
   "source": [
    "E2 = [\"A\", \"B\" ,\"C\", 'D']            # enumerate gives idex and value both \n",
    "for i,x in enumerate(E2):\n",
    "    print(i,x)"
   ]
  },
  {
   "cell_type": "code",
   "execution_count": 166,
   "id": "c965c6d7",
   "metadata": {},
   "outputs": [
    {
     "name": "stdout",
     "output_type": "stream",
     "text": [
      "rahul\n",
      "mamta\n",
      "sandeep\n"
     ]
    }
   ],
   "source": [
    "E3 = ['rahul','suraj','mamta','sonu','sandeep']\n",
    "for i,x in enumerate(E3):                        #by using enumerate \n",
    "    if i%2==0:\n",
    "        print(x)\n",
    "    "
   ]
  },
  {
   "cell_type": "markdown",
   "id": "9bfec2d4",
   "metadata": {},
   "source": [
    "### f strings"
   ]
  },
  {
   "cell_type": "code",
   "execution_count": 167,
   "id": "b9a8a831",
   "metadata": {},
   "outputs": [
    {
     "name": "stdout",
     "output_type": "stream",
     "text": [
      "0 this is the topper of our batch rahul\n",
      "1 this is the topper of our batch suraj\n",
      "2 this is the topper of our batch mamta\n"
     ]
    }
   ],
   "source": [
    "E3 = ['rahul','suraj','mamta','sonu','sandeep']    # f\" strings , varriale must be in {} \n",
    "for i,x in enumerate(E3):\n",
    "    if i<=2:\n",
    "        print(i,f\"this is the topper of our batch {x}\")"
   ]
  },
  {
   "cell_type": "markdown",
   "id": "f5c08ca0",
   "metadata": {},
   "source": [
    "### while loop \n",
    "when we don't know the no. of iteration then we use while loop "
   ]
  },
  {
   "cell_type": "code",
   "execution_count": 168,
   "id": "042f7eb0",
   "metadata": {},
   "outputs": [
    {
     "name": "stdout",
     "output_type": "stream",
     "text": [
      "1\n",
      "2\n",
      "3\n",
      "4\n",
      "5\n",
      "6\n",
      "7\n",
      "8\n",
      "9\n",
      "10\n"
     ]
    }
   ],
   "source": [
    "i = 1 \n",
    "while i<=10:\n",
    "    print (i)   # this is how to write count in while loop \n",
    "    i=i+1"
   ]
  },
  {
   "cell_type": "code",
   "execution_count": 169,
   "id": "f0ecc6ff",
   "metadata": {},
   "outputs": [
    {
     "name": "stdout",
     "output_type": "stream",
     "text": [
      "2\n",
      "4\n",
      "6\n",
      "8\n",
      "10\n",
      "12\n",
      "14\n",
      "16\n",
      "18\n",
      "20\n"
     ]
    }
   ],
   "source": [
    "i=2\n",
    "while i<=20:   # writng table of 2 using while loop\n",
    "    print(i)\n",
    "    i=i+2\n"
   ]
  },
  {
   "cell_type": "code",
   "execution_count": 170,
   "id": "cd22bda4",
   "metadata": {},
   "outputs": [
    {
     "name": "stdout",
     "output_type": "stream",
     "text": [
      "Enter your user nametahir114\n",
      "user name can't be integer\n",
      "Enter your user nametahir\n",
      "user name  tahir\n"
     ]
    }
   ],
   "source": [
    "while True:\n",
    "    user_name = input(\"Enter your user name\",)    # Enter user name interface by using alpha \n",
    "    if user_name.isalpha():\n",
    "        print(\"user name \",user_name)              #must use break in this condition to avoid error\n",
    "        break\n",
    "    else:\n",
    "        print (\"user name can't be integer\")"
   ]
  },
  {
   "cell_type": "code",
   "execution_count": 171,
   "id": "dd3bc2b2",
   "metadata": {},
   "outputs": [
    {
     "name": "stdout",
     "output_type": "stream",
     "text": [
      "enter your user id:tahir123\n",
      "enter your password12345\n",
      "login seccessful\n"
     ]
    }
   ],
   "source": [
    "while True:\n",
    "    user_id = input(\"enter your user id:\",)\n",
    "    passwordd = int(input(\"enter your password\"))            ## user and password block created using while loop \n",
    "    if user_id == \"tahir123\" and passwordd == 12345:\n",
    "        print(\"login seccessful\")\n",
    "        break\n",
    "    else:\n",
    "        print(\"incorrect user id or password try again!\")"
   ]
  },
  {
   "cell_type": "code",
   "execution_count": 172,
   "id": "69088441",
   "metadata": {},
   "outputs": [
    {
     "name": "stdout",
     "output_type": "stream",
     "text": [
      "1 hellow world\n",
      "2 hellow world\n",
      "3 hellow world\n",
      "4 hellow world\n",
      "5 hellow world\n",
      "6 hellow world\n",
      "7 hellow world\n",
      "8 hellow world\n",
      "9 hellow world\n",
      "10 hellow world\n"
     ]
    }
   ],
   "source": [
    "i = 1 \n",
    "while i<11:\n",
    "    print (i,\"hellow world\")  ## 1o times hellow world using while loop \n",
    "    i = i+1               "
   ]
  },
  {
   "cell_type": "markdown",
   "id": "552d38c8",
   "metadata": {},
   "source": [
    "## function in python "
   ]
  },
  {
   "cell_type": "code",
   "execution_count": 173,
   "id": "52c3d824",
   "metadata": {},
   "outputs": [],
   "source": [
    "alist = [11,12,14,15,25,147,66,4,3,2,4,5,6,98,7,40]"
   ]
  },
  {
   "cell_type": "code",
   "execution_count": 174,
   "id": "325f43c2",
   "metadata": {},
   "outputs": [
    {
     "name": "stdout",
     "output_type": "stream",
     "text": [
      "[11, 12, 14, 15, 25, 147, 66, 4, 3, 2, 4, 5, 6, 98, 7, 40]\n"
     ]
    }
   ],
   "source": [
    "\n",
    "    print(alist)"
   ]
  },
  {
   "cell_type": "code",
   "execution_count": 175,
   "id": "5c1e99d2",
   "metadata": {},
   "outputs": [
    {
     "data": {
      "text/plain": [
       "[11, 12, 14, 15, 25, 147, 66, 4, 3, 2, 4, 5, 6, 98, 7, 40, 1000]"
      ]
     },
     "execution_count": 175,
     "metadata": {},
     "output_type": "execute_result"
    }
   ],
   "source": [
    "alist.append(1000)\n",
    "alist"
   ]
  },
  {
   "cell_type": "code",
   "execution_count": 176,
   "id": "cf43a4c2",
   "metadata": {},
   "outputs": [],
   "source": [
    "del(alist[-1])"
   ]
  },
  {
   "cell_type": "code",
   "execution_count": 177,
   "id": "0de22a22",
   "metadata": {},
   "outputs": [
    {
     "data": {
      "text/plain": [
       "[11, 12, 14, 15, 25, 147, 66, 4, 3, 2, 4, 5, 6, 98, 7, 40]"
      ]
     },
     "execution_count": 177,
     "metadata": {},
     "output_type": "execute_result"
    }
   ],
   "source": [
    "alist"
   ]
  },
  {
   "cell_type": "code",
   "execution_count": 178,
   "id": "3d5ffdb6",
   "metadata": {},
   "outputs": [],
   "source": [
    "\n",
    "alist.remove(15)"
   ]
  },
  {
   "cell_type": "code",
   "execution_count": 179,
   "id": "963f893d",
   "metadata": {},
   "outputs": [
    {
     "data": {
      "text/plain": [
       "[11, 12, 14, 25, 147, 66, 4, 3, 2, 4, 5, 6, 98, 7, 40]"
      ]
     },
     "execution_count": 179,
     "metadata": {},
     "output_type": "execute_result"
    }
   ],
   "source": [
    "alist"
   ]
  },
  {
   "cell_type": "code",
   "execution_count": 180,
   "id": "57a6f22f",
   "metadata": {},
   "outputs": [
    {
     "data": {
      "text/plain": [
       "[2, 3, 4, 4, 5, 6, 7, 11, 12, 14, 25, 40, 66, 98, 147]"
      ]
     },
     "execution_count": 180,
     "metadata": {},
     "output_type": "execute_result"
    }
   ],
   "source": [
    "sorted(alist)      # sorted fucntion sort the list but does not change into sorted for permanent"
   ]
  },
  {
   "cell_type": "code",
   "execution_count": 181,
   "id": "937458e7",
   "metadata": {},
   "outputs": [
    {
     "data": {
      "text/plain": [
       "[11, 12, 14, 25, 147, 66, 4, 3, 2, 4, 5, 6, 98, 7, 40]"
      ]
     },
     "execution_count": 181,
     "metadata": {},
     "output_type": "execute_result"
    }
   ],
   "source": [
    "alist    # see "
   ]
  },
  {
   "cell_type": "code",
   "execution_count": 182,
   "id": "2271d350",
   "metadata": {},
   "outputs": [
    {
     "data": {
      "text/plain": [
       "[2, 3, 4, 4, 5, 6, 7, 11, 12, 14, 25, 40, 66, 98, 147]"
      ]
     },
     "execution_count": 182,
     "metadata": {},
     "output_type": "execute_result"
    }
   ],
   "source": [
    "\n",
    "alist.sort()    # sort.() sort the list permanently \n",
    "alist"
   ]
  },
  {
   "cell_type": "code",
   "execution_count": 183,
   "id": "6e9e4d12",
   "metadata": {},
   "outputs": [
    {
     "data": {
      "text/plain": [
       "[2, 3, 4, 4, 5, 6, 7, 11, 12, 14, 25, 40, 66, 98, 147]"
      ]
     },
     "execution_count": 183,
     "metadata": {},
     "output_type": "execute_result"
    }
   ],
   "source": [
    "alist   #see   "
   ]
  },
  {
   "cell_type": "code",
   "execution_count": 184,
   "id": "fedb2a19",
   "metadata": {},
   "outputs": [
    {
     "data": {
      "text/plain": [
       "15"
      ]
     },
     "execution_count": 184,
     "metadata": {},
     "output_type": "execute_result"
    }
   ],
   "source": [
    "len(alist)   # len function tells the length of the list or tuple"
   ]
  },
  {
   "cell_type": "code",
   "execution_count": 185,
   "id": "93f319e2",
   "metadata": {},
   "outputs": [],
   "source": [
    "alist = tuple(alist)\n"
   ]
  },
  {
   "cell_type": "code",
   "execution_count": 186,
   "id": "93fbc21d",
   "metadata": {},
   "outputs": [
    {
     "data": {
      "text/plain": [
       "(2, 3, 4, 4, 5, 6, 7, 11, 12, 14, 25, 40, 66, 98, 147)"
      ]
     },
     "execution_count": 186,
     "metadata": {},
     "output_type": "execute_result"
    }
   ],
   "source": [
    "alist   "
   ]
  },
  {
   "cell_type": "code",
   "execution_count": 187,
   "id": "fb30734a",
   "metadata": {},
   "outputs": [
    {
     "data": {
      "text/plain": [
       "15"
      ]
     },
     "execution_count": 187,
     "metadata": {},
     "output_type": "execute_result"
    }
   ],
   "source": [
    "len(alist)"
   ]
  },
  {
   "cell_type": "code",
   "execution_count": 188,
   "id": "421609aa",
   "metadata": {},
   "outputs": [
    {
     "data": {
      "text/plain": [
       "444"
      ]
     },
     "execution_count": 188,
     "metadata": {},
     "output_type": "execute_result"
    }
   ],
   "source": [
    "sum(alist)"
   ]
  },
  {
   "cell_type": "code",
   "execution_count": 189,
   "id": "16b1d032",
   "metadata": {},
   "outputs": [],
   "source": [
    "alist = list(alist)"
   ]
  },
  {
   "cell_type": "code",
   "execution_count": 190,
   "id": "4683bf5e",
   "metadata": {},
   "outputs": [
    {
     "data": {
      "text/plain": [
       "[2, 3, 4, 4, 5, 6, 7, 11, 12, 14, 25, 40, 66, 98, 147]"
      ]
     },
     "execution_count": 190,
     "metadata": {},
     "output_type": "execute_result"
    }
   ],
   "source": [
    "alist"
   ]
  },
  {
   "cell_type": "code",
   "execution_count": 191,
   "id": "3b93d37c",
   "metadata": {},
   "outputs": [
    {
     "data": {
      "text/plain": [
       "444"
      ]
     },
     "execution_count": 191,
     "metadata": {},
     "output_type": "execute_result"
    }
   ],
   "source": [
    "sum(alist)    #  sum the function tells the total sum of list and tuple "
   ]
  },
  {
   "cell_type": "code",
   "execution_count": 192,
   "id": "b72c2364",
   "metadata": {},
   "outputs": [],
   "source": [
    "t = -1200.50   # abs fuction gives the absolute value of the number \n",
    "h = +120.12     "
   ]
  },
  {
   "cell_type": "code",
   "execution_count": 193,
   "id": "d0309f29",
   "metadata": {},
   "outputs": [
    {
     "name": "stdout",
     "output_type": "stream",
     "text": [
      "1200.5\n"
     ]
    },
    {
     "data": {
      "text/plain": [
       "120.12"
      ]
     },
     "execution_count": 193,
     "metadata": {},
     "output_type": "execute_result"
    }
   ],
   "source": [
    "print(abs(t))    # abs actally fucntion example\n",
    "abs(h)"
   ]
  },
  {
   "cell_type": "code",
   "execution_count": 194,
   "id": "669287c5",
   "metadata": {},
   "outputs": [
    {
     "data": {
      "text/plain": [
       "True"
      ]
     },
     "execution_count": 194,
     "metadata": {},
     "output_type": "execute_result"
    }
   ],
   "source": [
    "all(alist)     # all function give true if all item is iterable "
   ]
  },
  {
   "cell_type": "code",
   "execution_count": 195,
   "id": "1f60900e",
   "metadata": {},
   "outputs": [
    {
     "data": {
      "text/plain": [
       "'[2, 3, 4, 4, 5, 6, 7, 11, 12, 14, 25, 40, 66, 98, 147]'"
      ]
     },
     "execution_count": 195,
     "metadata": {},
     "output_type": "execute_result"
    }
   ],
   "source": [
    "# ascii function \n",
    "ascii(alist)"
   ]
  },
  {
   "cell_type": "code",
   "execution_count": 196,
   "id": "6ac34373",
   "metadata": {},
   "outputs": [],
   "source": [
    "# enumerate - takes the a collection (eg. a tuple) and gives it's enumerate object (iterable , start)\n",
    "\n",
    "lis = (\"ram\",\"deepak\",\"lamp\",\"tahir\")\n"
   ]
  },
  {
   "cell_type": "code",
   "execution_count": 197,
   "id": "347c4328",
   "metadata": {},
   "outputs": [
    {
     "name": "stdout",
     "output_type": "stream",
     "text": [
      "0 ram\n",
      "1 deepak\n",
      "2 lamp\n",
      "3 tahir\n"
     ]
    }
   ],
   "source": [
    "for x, items in enumerate(lis):\n",
    "    print(x,items)"
   ]
  },
  {
   "cell_type": "code",
   "execution_count": 198,
   "id": "3dcee308",
   "metadata": {},
   "outputs": [
    {
     "name": "stdout",
     "output_type": "stream",
     "text": [
      "compter used by tahir is dell\n",
      "compter used by deepak is hp\n",
      "compter used by suraj is dell\n",
      "compter used by gurmeet is apple\n"
     ]
    }
   ],
   "source": [
    "user = ['tahir','deepak','suraj','gurmeet']            # format() function \n",
    "comp = ['dell','hp','dell','apple']\n",
    "for i in range(0, len(user)):\n",
    "               template = \"compter used by {} is {}\"\n",
    "               print(template.format(user[i],comp[i]))"
   ]
  },
  {
   "cell_type": "code",
   "execution_count": 199,
   "id": "45df1a15",
   "metadata": {},
   "outputs": [
    {
     "data": {
      "text/plain": [
       "1997456954368"
      ]
     },
     "execution_count": 199,
     "metadata": {},
     "output_type": "execute_result"
    }
   ],
   "source": [
    "id(lis)     # tells the unique id for each object "
   ]
  },
  {
   "cell_type": "code",
   "execution_count": 200,
   "id": "cb6e90d5",
   "metadata": {},
   "outputs": [
    {
     "data": {
      "text/plain": [
       "16"
      ]
     },
     "execution_count": 200,
     "metadata": {},
     "output_type": "execute_result"
    }
   ],
   "source": [
    " pow(2,4) # power function"
   ]
  },
  {
   "cell_type": "code",
   "execution_count": 201,
   "id": "f0db4208",
   "metadata": {},
   "outputs": [
    {
     "data": {
      "text/plain": [
       "1"
      ]
     },
     "execution_count": 201,
     "metadata": {},
     "output_type": "execute_result"
    }
   ],
   "source": [
    "pow(10,0)"
   ]
  },
  {
   "cell_type": "code",
   "execution_count": 202,
   "id": "329465c2",
   "metadata": {},
   "outputs": [
    {
     "data": {
      "text/plain": [
       "0"
      ]
     },
     "execution_count": 202,
     "metadata": {},
     "output_type": "execute_result"
    }
   ],
   "source": [
    "pow(0,10)"
   ]
  },
  {
   "cell_type": "code",
   "execution_count": 203,
   "id": "9a6ffd2f",
   "metadata": {},
   "outputs": [
    {
     "data": {
      "text/plain": [
       "0"
      ]
     },
     "execution_count": 203,
     "metadata": {},
     "output_type": "execute_result"
    }
   ],
   "source": [
    "pow(4,2,1)"
   ]
  },
  {
   "cell_type": "markdown",
   "id": "455427e2",
   "metadata": {},
   "source": [
    "### user defined fuction by def "
   ]
  },
  {
   "cell_type": "code",
   "execution_count": 204,
   "id": "04e22869",
   "metadata": {},
   "outputs": [
    {
     "name": "stdout",
     "output_type": "stream",
     "text": [
      "hellow python\n"
     ]
    }
   ],
   "source": [
    "def function1():\n",
    "    print(\"hellow python\")     # simple defined function for hellow world \n",
    "function1()"
   ]
  },
  {
   "cell_type": "code",
   "execution_count": 205,
   "id": "348cc444",
   "metadata": {},
   "outputs": [
    {
     "name": "stdout",
     "output_type": "stream",
     "text": [
      "hellow python\n",
      "hellow python\n",
      "hellow python\n",
      "hellow python\n"
     ]
    }
   ],
   "source": [
    "function1()\n",
    "function1()\n",
    "function1()\n",
    "function1()\n"
   ]
  },
  {
   "cell_type": "code",
   "execution_count": 206,
   "id": "10005ce8",
   "metadata": {},
   "outputs": [],
   "source": [
    "def first1():\n",
    "    a = int(input(\"enter first no.\",))\n",
    "    b = int(input(\"enter secound no.\",))     #a simple user defined function\n",
    "    y = a+b\n",
    "    z = y/2\n",
    "    print(\"sum of two numbers.\",y)\n",
    "    print(\"average of two no.\",z)"
   ]
  },
  {
   "cell_type": "code",
   "execution_count": 207,
   "id": "01725a56",
   "metadata": {},
   "outputs": [
    {
     "name": "stdout",
     "output_type": "stream",
     "text": [
      "enter first no.5\n",
      "enter secound no.8\n",
      "sum of two numbers. 13\n",
      "average of two no. 6.5\n"
     ]
    }
   ],
   "source": [
    "first1()    # function calling \n",
    "    "
   ]
  },
  {
   "cell_type": "code",
   "execution_count": 208,
   "id": "61e76905",
   "metadata": {},
   "outputs": [],
   "source": [
    "def function2(country=\"India\"):\n",
    "    print(\"I am from\",country)"
   ]
  },
  {
   "cell_type": "code",
   "execution_count": 209,
   "id": "a016e0d0",
   "metadata": {},
   "outputs": [
    {
     "name": "stdout",
     "output_type": "stream",
     "text": [
      "I am from India\n"
     ]
    }
   ],
   "source": [
    "function2()"
   ]
  },
  {
   "cell_type": "code",
   "execution_count": 210,
   "id": "8e30eb01",
   "metadata": {},
   "outputs": [
    {
     "name": "stdout",
     "output_type": "stream",
     "text": [
      "I am from usa\n",
      "I am from Dubai\n",
      "I am from England\n",
      "I am from Saudi\n"
     ]
    }
   ],
   "source": [
    "function2('usa')\n",
    "function2('Dubai')\n",
    "function2('England')\n",
    "function2('Saudi')"
   ]
  },
  {
   "cell_type": "code",
   "execution_count": 211,
   "id": "6832793c",
   "metadata": {},
   "outputs": [],
   "source": [
    "a=\"india\"\n",
    "def fuctionc(a):\n",
    "    print(\"I am from \",a)\n"
   ]
  },
  {
   "cell_type": "code",
   "execution_count": 212,
   "id": "0a20dc1a",
   "metadata": {},
   "outputs": [
    {
     "name": "stdout",
     "output_type": "stream",
     "text": [
      "I am from  india\n"
     ]
    }
   ],
   "source": [
    "fuctionc(a)"
   ]
  },
  {
   "cell_type": "code",
   "execution_count": 213,
   "id": "334ef103",
   "metadata": {},
   "outputs": [
    {
     "name": "stdout",
     "output_type": "stream",
     "text": [
      "I am from  saudi\n"
     ]
    }
   ],
   "source": [
    "fuctionc(\"saudi\")"
   ]
  },
  {
   "cell_type": "code",
   "execution_count": 214,
   "id": "5448f40e",
   "metadata": {},
   "outputs": [
    {
     "name": "stdout",
     "output_type": "stream",
     "text": [
      "15\n",
      "25\n"
     ]
    },
    {
     "data": {
      "text/plain": [
       "40"
      ]
     },
     "execution_count": 214,
     "metadata": {},
     "output_type": "execute_result"
    }
   ],
   "source": [
    "def mulp(x):\n",
    "    return 5*x\n",
    "print(mulp(3))\n",
    "print(mulp(5))\n",
    "mulp(8)"
   ]
  },
  {
   "cell_type": "code",
   "execution_count": 215,
   "id": "104c3d83",
   "metadata": {},
   "outputs": [],
   "source": [
    "\"\"\"this is the fuction based on pow of (a+b)\"\"\"\n",
    "def squar(a,b):\n",
    "    result = pow(a,2) + pow(b,2) + 2*a*b\n",
    "    return result"
   ]
  },
  {
   "cell_type": "code",
   "execution_count": 216,
   "id": "e2177e1f",
   "metadata": {},
   "outputs": [
    {
     "data": {
      "text/plain": [
       "25"
      ]
     },
     "execution_count": 216,
     "metadata": {},
     "output_type": "execute_result"
    }
   ],
   "source": [
    "squar(2,3)"
   ]
  },
  {
   "cell_type": "code",
   "execution_count": 217,
   "id": "ee117b5d",
   "metadata": {},
   "outputs": [
    {
     "data": {
      "text/plain": [
       "4"
      ]
     },
     "execution_count": 217,
     "metadata": {},
     "output_type": "execute_result"
    }
   ],
   "source": [
    "squar(1,1)"
   ]
  },
  {
   "cell_type": "code",
   "execution_count": 218,
   "id": "45ea0fd1",
   "metadata": {},
   "outputs": [],
   "source": [
    "x = lambda a : a+10 # lambda function , one line functionality \n"
   ]
  },
  {
   "cell_type": "code",
   "execution_count": 219,
   "id": "7de63242",
   "metadata": {},
   "outputs": [
    {
     "name": "stdout",
     "output_type": "stream",
     "text": [
      "30\n",
      "40\n",
      "100\n"
     ]
    }
   ],
   "source": [
    "print(x(20))\n",
    "print(x(30))      # lambda function example \n",
    "print(x(90))"
   ]
  },
  {
   "cell_type": "code",
   "execution_count": 220,
   "id": "c90d13d1",
   "metadata": {},
   "outputs": [
    {
     "name": "stdout",
     "output_type": "stream",
     "text": [
      "8\n"
     ]
    }
   ],
   "source": [
    "u = lambda a:a*a*a # cube program using lambda function \n",
    "print(u(2))"
   ]
  },
  {
   "cell_type": "code",
   "execution_count": 221,
   "id": "8c191270",
   "metadata": {},
   "outputs": [
    {
     "name": "stdout",
     "output_type": "stream",
     "text": [
      "1000\n"
     ]
    }
   ],
   "source": [
    "print(u(10))"
   ]
  },
  {
   "cell_type": "code",
   "execution_count": 222,
   "id": "f90ac145",
   "metadata": {},
   "outputs": [],
   "source": [
    "h = lambda a,b,c,d:a+b+c+d"
   ]
  },
  {
   "cell_type": "code",
   "execution_count": 223,
   "id": "de57ea59",
   "metadata": {},
   "outputs": [
    {
     "name": "stdout",
     "output_type": "stream",
     "text": [
      "14\n"
     ]
    }
   ],
   "source": [
    "print(h(2,3,4,5))"
   ]
  },
  {
   "cell_type": "code",
   "execution_count": 224,
   "id": "9a9d8280",
   "metadata": {},
   "outputs": [
    {
     "data": {
      "text/plain": [
       "20"
      ]
     },
     "execution_count": 224,
     "metadata": {},
     "output_type": "execute_result"
    }
   ],
   "source": [
    "h(3,8,9,0)"
   ]
  },
  {
   "cell_type": "markdown",
   "id": "4ea565c2",
   "metadata": {},
   "source": [
    "## try and except in python"
   ]
  },
  {
   "cell_type": "code",
   "execution_count": 225,
   "id": "f23a4ffe",
   "metadata": {},
   "outputs": [
    {
     "name": "stdout",
     "output_type": "stream",
     "text": [
      "enter the first no: 9\n",
      "enter the secound no: 11\n",
      "Division is:  0.8181818181818182\n"
     ]
    }
   ],
   "source": [
    "x = int(input(\"enter the first no: \"))\n",
    "y = int(input(\"enter the secound no: \"))           # exception handling , division by zero   # take a look at below programme\n",
    "try:\n",
    "    z = x/y\n",
    "except Exception as e:    \n",
    "    print(\"exception occured: \",e)                # if we don't know the name of exception then we use  (Exception as e)\n",
    "    z = None\n",
    "print(\"Division is: \",z)    \n",
    "   "
   ]
  },
  {
   "cell_type": "code",
   "execution_count": 228,
   "id": "c9434182",
   "metadata": {},
   "outputs": [
    {
     "name": "stdout",
     "output_type": "stream",
     "text": [
      "enter the first no: 10\n",
      "enter the secound no: 0\n",
      "Division by zero exception \n",
      "Division is:  None\n"
     ]
    }
   ],
   "source": [
    "x = int(input(\"enter the first no: \"))\n",
    "y = int(input(\"enter the secound no: \"))           # relplace Exception as e by ZeroDivisionError(actual error)\n",
    "try:\n",
    "    z = x/y\n",
    "except ZeroDivisionError:                          # now we know the name of the exception\n",
    "    print(\"Division by zero exception \")\n",
    "    z = None\n",
    "print(\"Division is: \",z)    \n",
    "   "
   ]
  },
  {
   "cell_type": "markdown",
   "id": "be32536e",
   "metadata": {},
   "source": [
    "### Objects and class "
   ]
  },
  {
   "cell_type": "code",
   "execution_count": 229,
   "id": "20845247",
   "metadata": {},
   "outputs": [
    {
     "name": "stdout",
     "output_type": "stream",
     "text": [
      "Hi I'm Jack\n",
      "you can vote Mr. Jack\n",
      "you are over weight Mr. Jack\n"
     ]
    }
   ],
   "source": [
    "class Person:\n",
    "    def __init__(self):\n",
    "        self.name = \"Jack\"              #class and object in python \n",
    "        self.gender = \"Male\"\n",
    "        self.age = 23\n",
    "        self.weight = 85\n",
    "    def talk(self):\n",
    "        print(\"Hi I'm\", self.name)\n",
    "    def vote(self):\n",
    "        if self.age<18:\n",
    "            print(\"you can't vote Mr.\", self.name)\n",
    "        else:\n",
    "            print(\"you can vote Mr.\", self.name)\n",
    "    def weight(self):\n",
    "        if self.weight>80:\n",
    "            print(\"you are over weight Mr.\", self.name)\n",
    "        else:\n",
    "            print(\"you are fit and fine Mr.\", self.name)\n",
    "obj = Person()\n",
    "Person.talk(obj)\n",
    "Person.vote(obj)\n",
    "\n",
    "Person.weight(obj)"
   ]
  },
  {
   "cell_type": "code",
   "execution_count": 230,
   "id": "6feb02a8",
   "metadata": {},
   "outputs": [
    {
     "name": "stdout",
     "output_type": "stream",
     "text": [
      "you can vote Mr. jack\n",
      "you can't vote Mr. Rohan\n",
      "you can vote Mr. meera\n",
      "Hi I'm jack\n",
      "Hi I'm Rohan\n",
      "Hi I'm meera\n"
     ]
    }
   ],
   "source": [
    "class Person:\n",
    "    def __init__(self,n,g,a):\n",
    "        self.name = n              # Here we will pass the varriable to this class and multiple object to the same class \n",
    "        self.gender = g\n",
    "        self.age = a\n",
    "    def talk(self):\n",
    "        print(\"Hi I'm\", self.name)\n",
    "    def vote(self):\n",
    "        if self.age<18:\n",
    "            print(\"you can't vote Mr.\", self.name)\n",
    "        else:\n",
    "            print(\"you can vote Mr.\", self.name)\n",
    "         \n",
    "obj1 = Person(\"jack\",\"male\",27)\n",
    "obj2 = Person(\"Rohan\",\"male\",12)\n",
    "obj3 = Person(\"meera\",\"female\",18)\n",
    "\n",
    "obj1.vote()\n",
    "obj2.vote()\n",
    "obj3.vote()\n",
    "\n",
    "obj1.talk()\n",
    "obj2.talk()\n",
    "obj3.talk()\n",
    "\n",
    "\n"
   ]
  },
  {
   "cell_type": "code",
   "execution_count": 231,
   "id": "15fce11d",
   "metadata": {},
   "outputs": [],
   "source": [
    "class Employee:\n",
    "    def __init__(self,naam,gr,umr,yrexp,cs):      # class for new hire employee ,,# my own creation \n",
    "        self.name = naam\n",
    "        self.gender = gr\n",
    "        self.age = umr\n",
    "        self.yrexp = yrexp\n",
    "        self.cs = cs\n",
    "    def naam(self):\n",
    "        print(\"we glad to have you Mr \",self.name)\n",
    "        print(\"sex: \",self.gender)\n",
    "    def gr(self):\n",
    "        print(self.gender)\n",
    "    def umr(self):\n",
    "        r = 60-self.age\n",
    "        print (\"your current age is:- \",self.age)\n",
    "        print (f\"Mr {self.name} you will be retired after {r} years\")\n",
    "    def hike(self):\n",
    "        if self.yrexp >= 2:\n",
    "            print(\"egible for 20% hike on current salary\")\n",
    "        else:\n",
    "            print(\"not egible for hike\")\n",
    "    def total_hike(self):\n",
    "        h = 0.20*self.cs + self.cs\n",
    "        print (\"current salary: \",self.cs)\n",
    "        print(\"salary after hike: \",h)\n",
    "            "
   ]
  },
  {
   "cell_type": "code",
   "execution_count": 232,
   "id": "f8750e56",
   "metadata": {},
   "outputs": [],
   "source": [
    "tahir = Employee(\"Tahir\",\"male\",23,2,20000)\n"
   ]
  },
  {
   "cell_type": "code",
   "execution_count": 233,
   "id": "772ffab0",
   "metadata": {},
   "outputs": [
    {
     "name": "stdout",
     "output_type": "stream",
     "text": [
      "we glad to have you Mr  Tahir\n",
      "sex:  male\n",
      "male\n",
      "egible for 20% hike on current salary\n",
      "your current age is:-  23\n",
      "Mr Tahir you will be retired after 37 years\n",
      "current salary:  20000\n",
      "salary after hike:  24000.0\n"
     ]
    }
   ],
   "source": [
    "tahir.naam()\n",
    "tahir.gr()\n",
    "tahir.hike()\n",
    "tahir.umr()\n",
    "tahir.total_hike()"
   ]
  },
  {
   "cell_type": "code",
   "execution_count": 234,
   "id": "390f1b66",
   "metadata": {},
   "outputs": [],
   "source": [
    "jeetu = Employee(\"jeetu\",\"male\",24,5,150000)"
   ]
  },
  {
   "cell_type": "code",
   "execution_count": 235,
   "id": "ba7e61a7",
   "metadata": {},
   "outputs": [
    {
     "name": "stdout",
     "output_type": "stream",
     "text": [
      "we glad to have you Mr  jeetu\n",
      "sex:  male\n",
      "male\n",
      "egible for 20% hike on current salary\n",
      "your current age is:-  24\n",
      "Mr jeetu you will be retired after 36 years\n",
      "current salary:  150000\n",
      "salary after hike:  180000.0\n"
     ]
    }
   ],
   "source": [
    "jeetu.naam()\n",
    "jeetu.gr()\n",
    "jeetu.hike()\n",
    "jeetu.umr()\n",
    "jeetu.total_hike()"
   ]
  },
  {
   "cell_type": "code",
   "execution_count": null,
   "id": "40cd870b",
   "metadata": {},
   "outputs": [],
   "source": []
  }
 ],
 "metadata": {
  "kernelspec": {
   "display_name": "Python 3 (ipykernel)",
   "language": "python",
   "name": "python3"
  },
  "language_info": {
   "codemirror_mode": {
    "name": "ipython",
    "version": 3
   },
   "file_extension": ".py",
   "mimetype": "text/x-python",
   "name": "python",
   "nbconvert_exporter": "python",
   "pygments_lexer": "ipython3",
   "version": "3.9.13"
  }
 },
 "nbformat": 4,
 "nbformat_minor": 5
}
