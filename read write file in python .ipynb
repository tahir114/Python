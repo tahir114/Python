{
 "cells": [
  {
   "cell_type": "code",
   "execution_count": 24,
   "id": "32ad5a39",
   "metadata": {},
   "outputs": [],
   "source": [
    "f = open(\"D:\\\\tahir.txt\",\"w\")\n",
    "f.write(\"I'm learning Data Science\")   #to write we use \"w\" mode \n",
    "f.close()"
   ]
  },
  {
   "cell_type": "code",
   "execution_count": 25,
   "id": "e80fcd0d",
   "metadata": {},
   "outputs": [],
   "source": [
    "f = open(\"D:\\\\tahir.txt\",\"a\")\n",
    "f.write(\"\\nI'm learning python\") # to add extra something in our written file we use \"a\" , means append\n",
    "f.close()                            # we use \\n to add in bellow line"
   ]
  },
  {
   "cell_type": "code",
   "execution_count": 27,
   "id": "8a53d43b",
   "metadata": {},
   "outputs": [
    {
     "name": "stdout",
     "output_type": "stream",
     "text": [
      "I'm learning Data Science\n",
      "I'm learning python\n"
     ]
    }
   ],
   "source": [
    "f = open(\"D:\\\\tahir.txt\",\"r\")\n",
    "print(f.read())\n",
    "f.close()\n"
   ]
  },
  {
   "cell_type": "code",
   "execution_count": 29,
   "id": "06576999",
   "metadata": {},
   "outputs": [
    {
     "name": "stdout",
     "output_type": "stream",
     "text": [
      "I'm learning Data Science\n",
      "I'm learning python\n"
     ]
    }
   ],
   "source": [
    "f = open(\"D:\\\\tahir.txt\")\n",
    "print(f.read())\n",
    "f.close()"
   ]
  },
  {
   "cell_type": "code",
   "execution_count": 38,
   "id": "b7ffcf29",
   "metadata": {},
   "outputs": [
    {
     "name": "stdout",
     "output_type": "stream",
     "text": [
      "I'm learning Data Science\n",
      "I'm learning pythonI'm the bestI'm the bestI'm the bestI'm the bestn\\I'm the best\n",
      "I'm the best\n"
     ]
    }
   ],
   "source": [
    "f = open(\"D:\\\\tahir.txt\",\"a\")\n",
    "f.write(\"\\nI'm the best\")\n",
    "f = open(\"D:\\\\tahir.txt\",\"r\")\n",
    "print(f.read())\n",
    "f.close()"
   ]
  },
  {
   "cell_type": "markdown",
   "id": "f1155829",
   "metadata": {},
   "source": [
    "## all read modes in python \"r\""
   ]
  },
  {
   "cell_type": "code",
   "execution_count": 39,
   "id": "602a8735",
   "metadata": {},
   "outputs": [
    {
     "name": "stdout",
     "output_type": "stream",
     "text": [
      "I'm learning Data Science\n",
      "I'm learning pythonI'm the bestI'm the bestI'm the bestI'm the bestn\\I'm the best\n",
      "I'm the best\n"
     ]
    }
   ],
   "source": [
    "f = open(\"D:\\\\tahir.txt\",\"r\")\n",
    "print (f.read())                 # this will print entire file\n",
    "f.close()"
   ]
  },
  {
   "cell_type": "code",
   "execution_count": 42,
   "id": "903349ac",
   "metadata": {},
   "outputs": [
    {
     "name": "stdout",
     "output_type": "stream",
     "text": [
      "I'm lea\n"
     ]
    }
   ],
   "source": [
    "f = open(\"D:\\\\tahir.txt\",\"r\")   \n",
    "print(f.read(7))                 # this will print the firs 7 characters as we have given parameter\n",
    "f.close()"
   ]
  },
  {
   "cell_type": "code",
   "execution_count": 44,
   "id": "a8ee61c1",
   "metadata": {},
   "outputs": [
    {
     "name": "stdout",
     "output_type": "stream",
     "text": [
      "I'm learning Data Science\n",
      "\n"
     ]
    }
   ],
   "source": [
    "f = open(\"D:\\\\tahir.txt\",\"r\")\n",
    "print(f.readline())             #this will print the first line of the file "
   ]
  },
  {
   "cell_type": "code",
   "execution_count": 47,
   "id": "138d07ea",
   "metadata": {},
   "outputs": [
    {
     "name": "stdout",
     "output_type": "stream",
     "text": [
      "[\"I'm learning Data Science\\n\", \"I'm learning pythonI'm the bestI'm the bestI'm the bestI'm the bestn\\\\I'm the best\\n\", \"I'm the best\"]\n"
     ]
    }
   ],
   "source": [
    "f = open(\"D:\\\\tahir.txt\",\"r\")\n",
    "print(f.readlines())          # if you wanna read all lines \n",
    "f.close()\n",
    "      "
   ]
  },
  {
   "cell_type": "code",
   "execution_count": 62,
   "id": "84fa5fb8",
   "metadata": {},
   "outputs": [],
   "source": [
    "f = open(\"D:\\\\husain.txt\",\"w\")\n",
    "f.write(\"hellow python\")\n",
    "f.write(\"n\\we r human\")\n",
    "f.write(\"n\\go to hell\")\n",
    "f.close()\n"
   ]
  },
  {
   "cell_type": "code",
   "execution_count": 63,
   "id": "938a7277",
   "metadata": {},
   "outputs": [
    {
     "name": "stdout",
     "output_type": "stream",
     "text": [
      "hellow pythonn\\we r humann\\go to hell\n"
     ]
    }
   ],
   "source": [
    "f = open(\"D:\\\\husain.txt\",\"r\")\n",
    "print(f.read())\n",
    "f.close()\n"
   ]
  },
  {
   "cell_type": "code",
   "execution_count": 73,
   "id": "61b373fc",
   "metadata": {},
   "outputs": [],
   "source": [
    "import os \n",
    "file = open(\"D:\\\\file2delete2\",\"x\")   # we use \"x\" mode to create new file\n",
    "file.write(\"give me someshine\")\n",
    "file.close()\n"
   ]
  },
  {
   "cell_type": "code",
   "execution_count": 74,
   "id": "b4808964",
   "metadata": {},
   "outputs": [],
   "source": [
    "import os \n",
    "os.remove(\"D:\\\\file2delete2\")   # this is how you can delete your file "
   ]
  },
  {
   "cell_type": "code",
   "execution_count": 76,
   "id": "05e14626",
   "metadata": {},
   "outputs": [
    {
     "name": "stdout",
     "output_type": "stream",
     "text": [
      "There is no file with the name\n"
     ]
    }
   ],
   "source": [
    "import os \n",
    "if os.path.exists(\"D:\\\\file2delete2\"):\n",
    "    os.remove(\"file2delete2\")           # checking whether file has been deleted or not ,,,# file has been deleted \n",
    "else:\n",
    "    print(\"There is no file with the name\")"
   ]
  },
  {
   "cell_type": "code",
   "execution_count": 85,
   "id": "b40e1378",
   "metadata": {},
   "outputs": [
    {
     "name": "stdout",
     "output_type": "stream",
     "text": [
      "<_io.TextIOWrapper name='D://tahir.txt' mode='r' encoding='cp1252'>\n"
     ]
    }
   ],
   "source": [
    "import os\n",
    "pd = open(\"D://tahir.txt\",\"r\")\n",
    "print(pd)                                                                                                                                                                                                                                                                                                                                                                     "
   ]
  },
  {
   "cell_type": "code",
   "execution_count": null,
   "id": "47f846de",
   "metadata": {},
   "outputs": [],
   "source": []
  }
 ],
 "metadata": {
  "kernelspec": {
   "display_name": "Python 3 (ipykernel)",
   "language": "python",
   "name": "python3"
  },
  "language_info": {
   "codemirror_mode": {
    "name": "ipython",
    "version": 3
   },
   "file_extension": ".py",
   "mimetype": "text/x-python",
   "name": "python",
   "nbconvert_exporter": "python",
   "pygments_lexer": "ipython3",
   "version": "3.9.13"
  }
 },
 "nbformat": 4,
 "nbformat_minor": 5
}
